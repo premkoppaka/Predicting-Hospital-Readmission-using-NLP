{
 "cells": [
  {
   "cell_type": "markdown",
   "metadata": {},
   "source": [
    "# Welcome to Part 2 &mdash; Deep Learning\n",
    "# XLNet Transformer for Predicting Hospital Readmission\n",
    "This serves as a continuation of part 1 where I use Logistic Regression to predict 30-day unplanned readmission. Here I'll use XLNet, a transformer model, to predict readmission."
   ]
  },
  {
   "attachments": {},
   "cell_type": "markdown",
   "metadata": {},
   "source": [
    "I chose to avoid RNNs because it suffers from 1) vanishing or exploding gradient and 2)the inability to capture long-term dependencies. \n",
    "\n",
    "LSTM addresses RNN's inability to capture long-term dependencies, however, a transformer model should yield better results using an attention-based approach.\n",
    "\n",
    "I chose XLNet over BERT because it was already known to [outperform BERT](https://www.kdnuggets.com/2019/07/xlnet-outperforms-bert-several-nlp-tasks.html) in text classification problems. Aishwarya Srinivasan writes a brief article comparing the two: https://towardsdatascience.com/xlnet-explained-in-simple-terms-255b9fb2c97c\n",
    "\n",
    "Special shout out to Thilina Rajapakse for this [tutorial](https://towardsdatascience.com/https-medium-com-chaturangarajapakshe-text-classification-with-transformer-models-d370944b50ca) on implementing XLNet."
   ]
  },
  {
   "cell_type": "code",
   "execution_count": null,
   "metadata": {},
   "outputs": [],
   "source": []
  }
 ],
 "metadata": {
  "kernelspec": {
   "display_name": "Python 3",
   "language": "python",
   "name": "python3"
  },
  "language_info": {
   "codemirror_mode": {
    "name": "ipython",
    "version": 3
   },
   "file_extension": ".py",
   "mimetype": "text/x-python",
   "name": "python",
   "nbconvert_exporter": "python",
   "pygments_lexer": "ipython3",
   "version": "3.7.3"
  },
  "varInspector": {
   "cols": {
    "lenName": 16,
    "lenType": 16,
    "lenVar": 40
   },
   "kernels_config": {
    "python": {
     "delete_cmd_postfix": "",
     "delete_cmd_prefix": "del ",
     "library": "var_list.py",
     "varRefreshCmd": "print(var_dic_list())"
    },
    "r": {
     "delete_cmd_postfix": ") ",
     "delete_cmd_prefix": "rm(",
     "library": "var_list.r",
     "varRefreshCmd": "cat(var_dic_list()) "
    }
   },
   "types_to_exclude": [
    "module",
    "function",
    "builtin_function_or_method",
    "instance",
    "_Feature"
   ],
   "window_display": false
  }
 },
 "nbformat": 4,
 "nbformat_minor": 2
}
