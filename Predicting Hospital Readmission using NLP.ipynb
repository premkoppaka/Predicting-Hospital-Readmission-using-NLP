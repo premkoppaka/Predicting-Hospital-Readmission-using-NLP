{
 "cells": [
  {
   "cell_type": "markdown",
   "metadata": {},
   "source": [
    "<img src=\"images/hospital_revolving_door.jpg\" width=\"400\" />\n",
    "\n",
    "# Predicting Hospital Readmission using NLP\n",
    "Now that doctor's notes are stored in electronic health records, natural language processing can be used for predictive modeling to improve the quality of healthcare. In this project, I build a machine learning model to predict **30-day unplanned** hospital re-admission using clinical notes."
   ]
  },
  {
   "cell_type": "markdown",
   "metadata": {},
   "source": [
    "Andrew Long's [project](https://towardsdatascience.com/introduction-to-clinical-natural-language-processing-predicting-hospital-readmission-with-1736d52bc709) served as the basis for my project, however, in part 2 of my work I will take it a step further by applying Deep Learning to see if that will improve results. Long's project was originally inspired by this ArXiv [paper](https://arxiv.org/pdf/1801.07860.pdf) by Alvin Rajkomar et al.\n",
    "\n",
    "## Introduction\n",
    "Both me and Andrew Long used conventional machine learning models to predict unplanned, 30-day hospital readmissions. My approach **outperformed** the results from Andrew Long's [project](https://towardsdatascience.com/introduction-to-clinical-natural-language-processing-predicting-hospital-readmission-with-1736d52bc709) by **13% (AUC)**.\n",
    "\n",
    "As a quick recap, here's a list of additional things that I did differently:\n",
    "* Concatenate all the notes (instead of only using the last discharge summary)\n",
    "* Removed all English stopwords via NLTK\n",
    "* Performed lemmatization\n",
    "* Counted readmission only once\n",
    "\n",
    "In part 2 of this project I will apply a Deep Learning transformer model to see if that will further improve my outcome!"
   ]
  },
  {
   "cell_type": "markdown",
   "metadata": {},
   "source": [
    "# Intended Audience\n",
    "This projects is intended for people who are interested in Machine Learning in Healthcare. "
   ]
  },
  {
   "cell_type": "markdown",
   "metadata": {},
   "source": [
    "# What's in This Notebook\n",
    "In this notebook I will:\n",
    "* Preprocess the unstructured notes\n",
    "* Build a predictive model\n",
    "* Assess the quality of my models\n",
    "* Ideate on potential future areas of improvement"
   ]
  },
  {
   "cell_type": "markdown",
   "metadata": {},
   "source": [
    "# Why is This Important?\n",
    "This topic is important because readmissions are viewed as a standard measure of quality of care for healthcare providers.\n",
    "It's anticipated that using predictive modeling with Electronic Health Record (EHR) will drive improve healthcare quality [[Source](https://arxiv.org/pdf/1801.07860.pdf)]. In fact, a \"_recent Yale School of Medicine study found that hospitals financially penalized under the Hospital Readmission Reduction Program...reduced their readmission rates at a higher rate than nonpenalized hospitals\"._[[Source](https://yaledailynews.com/blog/2017/01/17/medicare-penalties-lead-to-decline-in-hospital-readmission-rates/)]"
   ]
  },
  {
   "cell_type": "markdown",
   "metadata": {},
   "source": [
    "# Model Definition\n",
    "In this project, I build a machine learning model to predict 30-day unplanned hospital readmission using discharge summaries.\n",
    "\n",
    "**Definitions**:\n",
    "1. A hospitalization is considered a \"re-admission\" if its admission date was within 30 days after discharge of a hospitalization. \n",
    "2. A readmission can only be counted once."
   ]
  },
  {
   "cell_type": "markdown",
   "metadata": {},
   "source": [
    "# About the Dataset\n",
    "I will utilize the MIMIC-III (Medical Information Mart for Intensive Care III), an amazing free hospital database. \n",
    "\n",
    "The database includes information such as demographics, vital sign measurements made at the bedside (~1 data point per hour), laboratory test results, procedures, medications, caregiver notes, imaging reports, and mortality (including post-hospital discharge).\n",
    "\n",
    "\n",
    "MIMIC-III is an open-access relational database containing tables of data relating to patients who stayed within the intensive care units (ICU) at Beth Israel Deaconess Medical Center. This public database of Electronic Health Records contains data points on about 41,000 patients from intensive care units between 2001 and 2012, including notes on close to 53,000 admissions.\n",
    "\n",
    "Due to the sensitive nature of medical data, I cannot include the data openly in this repository. If you'd like to get access to the data for this project, you will need to request access at this link (https://mimic.physionet.org/gettingstarted/access/).\n",
    "\n",
    "In this project, I will make use of the following MIMIC tables:\n",
    "* **[ADMISSIONS](https://mimic.physionet.org/mimictables/admissions/)** &mdash; a table containing admission and discharge dates. It has a unique identifier HADM_ID for each admission. HADM_ID refers to a unique admission to the hospital.\n",
    "* **[NOTEEVENTS](https://mimic.physionet.org/mimictables/noteevents/)** &mdash; discharge summaries, which condense information about a patient’s stay into a single document (linked by the HADM_ID). There are a total of 2,083,180 rows in this table."
   ]
  },
  {
   "cell_type": "markdown",
   "metadata": {},
   "source": [
    "# Step 1. Prepare the Data\n",
    "I will follow the steps below to prep the data from the ADMISSIONS and NOTEEVENTS MIMIC tables for my machine learning project."
   ]
  },
  {
   "cell_type": "markdown",
   "metadata": {},
   "source": [
    "<img src=\"images/preparing_data2.png\" width=\"600\" />"
   ]
  },
  {
   "cell_type": "markdown",
   "metadata": {},
   "source": [
    "## Load `ADMISSIONS` Table"
   ]
  },
  {
   "cell_type": "code",
   "execution_count": 1,
   "metadata": {},
   "outputs": [],
   "source": [
    "import pandas as pd\n",
    "import numpy as np\n",
    "import matplotlib.pyplot as plt\n",
    "\n",
    "df_adm = pd.read_csv('ADMISSIONS.csv')"
   ]
  },
  {
   "cell_type": "markdown",
   "metadata": {},
   "source": [
    "## Explore the data\n",
    "It's important to always spend time exploring the data."
   ]
  },
  {
   "cell_type": "code",
   "execution_count": null,
   "metadata": {
    "scrolled": false
   },
   "outputs": [],
   "source": [
    "df_adm.head()"
   ]
  },
  {
   "cell_type": "code",
   "execution_count": 3,
   "metadata": {},
   "outputs": [
    {
     "data": {
      "text/plain": [
       "Index(['ROW_ID', 'SUBJECT_ID', 'HADM_ID', 'ADMITTIME', 'DISCHTIME',\n",
       "       'DEATHTIME', 'ADMISSION_TYPE', 'ADMISSION_LOCATION',\n",
       "       'DISCHARGE_LOCATION', 'INSURANCE', 'LANGUAGE', 'RELIGION',\n",
       "       'MARITAL_STATUS', 'ETHNICITY', 'EDREGTIME', 'EDOUTTIME', 'DIAGNOSIS',\n",
       "       'HOSPITAL_EXPIRE_FLAG', 'HAS_CHARTEVENTS_DATA'],\n",
       "      dtype='object')"
      ]
     },
     "execution_count": 3,
     "metadata": {},
     "output_type": "execute_result"
    }
   ],
   "source": [
    "df_adm.columns"
   ]
  },
  {
   "cell_type": "markdown",
   "metadata": {},
   "source": [
    "The main columns of interest in this table are:\n",
    "* `SUBJECT_ID` &mdash; unique identifier for each subject\n",
    "* `HADM_ID` &mdash; unique identifier for each hospitalization\n",
    "* `ADMITTIME` &mdash; admission date with format YYYY-MM-DD hh:mm:ss\n",
    "* `DISCHTIME` &mdash; discharge date with same format\n",
    "* `DEATHTIME` &mdash; death time (if it exists) with same format\n",
    "* `ADMISSION_TYPE` &mdash; includes ELECTIVE, EMERGENCY, NEWBORN, URGENT"
   ]
  },
  {
   "cell_type": "markdown",
   "metadata": {},
   "source": [
    "Let's look at the data type of each column"
   ]
  },
  {
   "cell_type": "code",
   "execution_count": null,
   "metadata": {},
   "outputs": [],
   "source": [
    "df_adm.dtypes"
   ]
  },
  {
   "cell_type": "markdown",
   "metadata": {},
   "source": [
    "Let's see what's in the `ADMISSION_TYPE` column"
   ]
  },
  {
   "cell_type": "code",
   "execution_count": 5,
   "metadata": {},
   "outputs": [
    {
     "data": {
      "text/plain": [
       "ADMISSION_TYPE\n",
       "ELECTIVE      7706\n",
       "EMERGENCY    42071\n",
       "NEWBORN       7863\n",
       "URGENT        1336\n",
       "dtype: int64"
      ]
     },
     "execution_count": 5,
     "metadata": {},
     "output_type": "execute_result"
    }
   ],
   "source": [
    "df_adm.groupby(['ADMISSION_TYPE']).size()"
   ]
  },
  {
   "cell_type": "markdown",
   "metadata": {},
   "source": [
    "## Remove NEWBORN admissions\n",
    "According to the MIMIC [site](https://mimic.physionet.org/mimictables/admissions/) \"Newborn indicates that the HADM_ID pertains to the patient's birth.\" \n",
    "\n",
    "I will remove all NEWBORN admission types because in this project I'm not interested in studying births &mdash; my primary interest is EMERGENCY and URGENT admissions."
   ]
  },
  {
   "cell_type": "code",
   "execution_count": 6,
   "metadata": {},
   "outputs": [],
   "source": [
    "df_adm = df_adm.loc[df_adm.ADMISSION_TYPE != 'NEWBORN']"
   ]
  },
  {
   "cell_type": "code",
   "execution_count": 7,
   "metadata": {},
   "outputs": [
    {
     "data": {
      "text/plain": [
       "ADMISSION_TYPE\n",
       "ELECTIVE      7706\n",
       "EMERGENCY    42071\n",
       "URGENT        1336\n",
       "dtype: int64"
      ]
     },
     "execution_count": 7,
     "metadata": {},
     "output_type": "execute_result"
    }
   ],
   "source": [
    "# Ensure rows with NEWBORN ADMISSION_TYPE are removed\n",
    "df_adm.groupby(['ADMISSION_TYPE']).size()"
   ]
  },
  {
   "cell_type": "markdown",
   "metadata": {},
   "source": [
    "## Remove Deaths\n",
    "I will remove all admissions that have a DEATHTIME because this in project I'm studying re-admissions, not mortality. And a patient who died cannot be re-admitted."
   ]
  },
  {
   "cell_type": "code",
   "execution_count": null,
   "metadata": {},
   "outputs": [],
   "source": [
    "# Before removing deaths, first store the hadm_ids for dead patients. It will be used later to also remove deaths from the notes table\n",
    "hadm_rows_death = df_adm.loc[df_adm.DEATHTIME.notnull()]\n",
    "print(\"Number of death admissions:\", len(hadm_rows_death))\n",
    "\n",
    "# Store HADM_ID for dead patients in a list\n",
    "hadm_death_list = hadm_rows_death[\"HADM_ID\"].tolist()\n",
    "print(\"Length of the HADM_ID list:\", len(hadm_death_list))"
   ]
  },
  {
   "cell_type": "code",
   "execution_count": null,
   "metadata": {},
   "outputs": [],
   "source": [
    "# remove admissions of patients who died\n",
    "df_adm = df_adm.loc[df_adm.DEATHTIME.isnull()]\n",
    "df_adm"
   ]
  },
  {
   "cell_type": "code",
   "execution_count": null,
   "metadata": {},
   "outputs": [],
   "source": [
    "# Ensure rows with DEATHTIME are removed\n",
    "print('Total rows in admissions dataframe:', len(df_adm))\n",
    "print('Non-death admissions:', df_adm.DEATHTIME.isnull().sum())"
   ]
  },
  {
   "cell_type": "markdown",
   "metadata": {},
   "source": [
    "The two numbers match, which is great because that means that all death admissions were removed successfully."
   ]
  },
  {
   "cell_type": "markdown",
   "metadata": {},
   "source": [
    "##  Convert strings to dates\n",
    "According to the MIMIC [website](https://alpha.physionet.org/content/mimiciii/1.4/): \n",
    "> _\"...dates were shifted into the future by a random offset for each individual patient in a consistent manner to preserve intervals, resulting in stays which occur sometime between the years 2100 and 2200. Time of day, day of the week, and approximate seasonality were conserved during date shifting. Dates of birth for patients aged over 89 were shifted to obscure their true age and comply with HIPAA regulations: these patients appear in the database with ages of over 300 years.\"_\n",
    "\n",
    "When converting dates, it is safer to use a datetime format. Setting the `errors = 'coerce'` flag allows for missing dates but it sets it to `NaT` (not a datetime) when the string doesn't match the format. For references on formats see http://strftime.org/. "
   ]
  },
  {
   "cell_type": "code",
   "execution_count": 11,
   "metadata": {},
   "outputs": [
    {
     "name": "stdout",
     "output_type": "stream",
     "text": [
      "Number of missing admissions dates: 0\n",
      "Number of missing discharge dates: 0\n"
     ]
    }
   ],
   "source": [
    "# Convert to dates\n",
    "df_adm.ADMITTIME = pd.to_datetime(df_adm.ADMITTIME, format = '%Y-%m-%d %H:%M:%S', errors = 'coerce')\n",
    "df_adm.DISCHTIME = pd.to_datetime(df_adm.DISCHTIME, format = '%Y-%m-%d %H:%M:%S', errors = 'coerce')\n",
    "df_adm.DEATHTIME = pd.to_datetime(df_adm.DEATHTIME, format = '%Y-%m-%d %H:%M:%S', errors = 'coerce')\n",
    "\n",
    "# Check to see if there are any missing dates\n",
    "print('Number of missing admissions dates:', df_adm.ADMITTIME.isnull().sum())\n",
    "print('Number of missing discharge dates:', df_adm.DISCHTIME.isnull().sum())"
   ]
  },
  {
   "cell_type": "markdown",
   "metadata": {},
   "source": [
    "Let's explore the data types again to ensure they are now `datetime`, and not `object` as before."
   ]
  },
  {
   "cell_type": "code",
   "execution_count": 12,
   "metadata": {},
   "outputs": [
    {
     "name": "stdout",
     "output_type": "stream",
     "text": [
      "datetime64[ns]\n",
      "datetime64[ns]\n",
      "datetime64[ns]\n"
     ]
    }
   ],
   "source": [
    "print(df_adm.ADMITTIME.dtypes)\n",
    "print(df_adm.DISCHTIME.dtypes)\n",
    "print(df_adm.DEATHTIME.dtypes)"
   ]
  },
  {
   "cell_type": "markdown",
   "metadata": {},
   "source": [
    "## Get the next Unplanned admission date for each patient (if it exists)\n",
    "I need to get the next admission date, if it exists. \n",
    "\n",
    "First I'll verify that the dates are in order. \n",
    "\n",
    "Then I'll use the `shift()` function to get the next admission date."
   ]
  },
  {
   "cell_type": "code",
   "execution_count": null,
   "metadata": {},
   "outputs": [],
   "source": [
    "# sort by subject_ID and admission date\n",
    "df_adm = df_adm.sort_values(['SUBJECT_ID','ADMITTIME'])\n",
    "\n",
    "# When we reset the index, the old index is added as a column, and a new sequential index is used. Use the 'drop' parameter to avoid the old index being added as a column\n",
    "df_adm = df_adm.reset_index(drop = True)\n",
    "df_adm"
   ]
  },
  {
   "cell_type": "code",
   "execution_count": null,
   "metadata": {
    "scrolled": true
   },
   "outputs": [],
   "source": [
    "# Preview to verify that it did what I intended\n",
    "df_adm.loc[df_adm.SUBJECT_ID == 124,['SUBJECT_ID','ADMITTIME','ADMISSION_TYPE']]"
   ]
  },
  {
   "cell_type": "markdown",
   "metadata": {},
   "source": [
    "You can use the `groupby` and `shift` operator to get the next admission (if it exists) for each SUBJECT_ID"
   ]
  },
  {
   "cell_type": "code",
   "execution_count": 15,
   "metadata": {},
   "outputs": [],
   "source": [
    "# Create a column and put the 'next admission date' for each subject using groupby. You have to use groupby otherwise the dates will be from different subjects\n",
    "df_adm['NEXT_ADMITTIME'] = df_adm.groupby('SUBJECT_ID').ADMITTIME.shift(-1)\n",
    "\n",
    "# Same as above. Create a column that holds the 'next admission type' for each subject\n",
    "df_adm['NEXT_ADMISSION_TYPE'] = df_adm.groupby('SUBJECT_ID').ADMISSION_TYPE.shift(-1)"
   ]
  },
  {
   "cell_type": "code",
   "execution_count": null,
   "metadata": {
    "scrolled": true
   },
   "outputs": [],
   "source": [
    "# Preview to verify that it did what I intended\n",
    "df_adm.loc[df_adm.SUBJECT_ID == 124,['SUBJECT_ID','ADMITTIME','ADMISSION_TYPE','NEXT_ADMITTIME','NEXT_ADMISSION_TYPE']]"
   ]
  },
  {
   "cell_type": "markdown",
   "metadata": {},
   "source": [
    "Note that the last admission doesn’t have a next admission."
   ]
  },
  {
   "cell_type": "markdown",
   "metadata": {},
   "source": [
    "Since I want to predict **unplanned** re-admissions I will drop (filter out) any future admissions that are **ELECTIVE** so that only EMERGENCY re-admissions are measured. "
   ]
  },
  {
   "cell_type": "code",
   "execution_count": 17,
   "metadata": {},
   "outputs": [],
   "source": [
    "# For rows with 'elective' admissions, replace it with NaT and NaN\n",
    "rows = df_adm.NEXT_ADMISSION_TYPE == 'ELECTIVE'\n",
    "df_adm.loc[rows,'NEXT_ADMITTIME'] = pd.NaT\n",
    "df_adm.loc[rows,'NEXT_ADMISSION_TYPE'] = np.NaN"
   ]
  },
  {
   "cell_type": "code",
   "execution_count": null,
   "metadata": {
    "scrolled": true
   },
   "outputs": [],
   "source": [
    "# Preview to verify that it did what I intended\n",
    "df_adm.loc[df_adm.SUBJECT_ID == 124, ['SUBJECT_ID', 'ADMITTIME', 'ADMISSION_TYPE', 'NEXT_ADMITTIME', 'NEXT_ADMISSION_TYPE']]"
   ]
  },
  {
   "cell_type": "markdown",
   "metadata": {},
   "source": [
    "Backfill in the values that I removed. So copy the `ADMITTIME` from the last emergency and paste it in the `NEXT_ADMITTIME` for the **previous** emergency. So I am effectively ignoring/skipping the ELECTIVE admission row completely. Doing this will allow me to calculate the days until the next admission. "
   ]
  },
  {
   "cell_type": "code",
   "execution_count": 19,
   "metadata": {},
   "outputs": [],
   "source": [
    "# Sort by subject_id and admission date\n",
    "# It's safer to sort right before the fill incase something I did above changed the order\n",
    "df_adm = df_adm.sort_values(['SUBJECT_ID','ADMITTIME'])\n",
    "\n",
    "# Back fill. This will take a little while.\n",
    "df_adm[['NEXT_ADMITTIME','NEXT_ADMISSION_TYPE']] = df_adm.groupby(['SUBJECT_ID'])[['NEXT_ADMITTIME','NEXT_ADMISSION_TYPE']].fillna(method = 'bfill')"
   ]
  },
  {
   "cell_type": "code",
   "execution_count": null,
   "metadata": {
    "scrolled": true
   },
   "outputs": [],
   "source": [
    "# Preview\n",
    "df_adm.loc[df_adm.SUBJECT_ID == 124,['SUBJECT_ID','ADMITTIME','ADMISSION_TYPE','NEXT_ADMITTIME','NEXT_ADMISSION_TYPE']]"
   ]
  },
  {
   "cell_type": "markdown",
   "metadata": {},
   "source": [
    "## Calculate days until next admission\n",
    "First, let's preview the discharge dates in the table."
   ]
  },
  {
   "cell_type": "code",
   "execution_count": null,
   "metadata": {
    "scrolled": true
   },
   "outputs": [],
   "source": [
    "df_adm.loc[df_adm.SUBJECT_ID == 124,['SUBJECT_ID','ADMITTIME','ADMISSION_TYPE','DISCHTIME','NEXT_ADMITTIME','NEXT_ADMISSION_TYPE']]"
   ]
  },
  {
   "cell_type": "markdown",
   "metadata": {},
   "source": [
    "Now let's calculate the **days** between discharge and the next emergency visit"
   ]
  },
  {
   "cell_type": "code",
   "execution_count": 22,
   "metadata": {},
   "outputs": [],
   "source": [
    "df_adm['DAYS_TIL_NEXT_ADMIT'] = (df_adm.NEXT_ADMITTIME - df_adm.DISCHTIME).dt.total_seconds()/(24*60*60) "
   ]
  },
  {
   "cell_type": "markdown",
   "metadata": {},
   "source": [
    "Let's preview the `DAYS_TIL_NEXT_ADMIT` column that I just created."
   ]
  },
  {
   "cell_type": "code",
   "execution_count": null,
   "metadata": {
    "scrolled": true
   },
   "outputs": [],
   "source": [
    "df_adm.loc[df_adm.SUBJECT_ID == 124,['SUBJECT_ID','ADMITTIME','ADMISSION_TYPE','DISCHTIME','NEXT_ADMITTIME', 'DAYS_TIL_NEXT_ADMIT']]"
   ]
  },
  {
   "cell_type": "markdown",
   "metadata": {},
   "source": [
    "Let's do a quick manual sanity check on the first row. The approximate number of days between the DISCHTIME and the NEXT_ADMITTIME on the top row is ~520 days. So far things are looking good."
   ]
  },
  {
   "cell_type": "markdown",
   "metadata": {},
   "source": [
    "Count the total number of hospitalizations in the dataset. Remember that the `HADM_ID` refers to a unique admission to the hospital."
   ]
  },
  {
   "cell_type": "code",
   "execution_count": 24,
   "metadata": {},
   "outputs": [
    {
     "data": {
      "text/plain": [
       "45321"
      ]
     },
     "execution_count": 24,
     "metadata": {},
     "output_type": "execute_result"
    }
   ],
   "source": [
    "df_adm['HADM_ID'].count()"
   ]
  },
  {
   "cell_type": "markdown",
   "metadata": {},
   "source": [
    "There are 45,321 total hospitalizations (after removing newborns)."
   ]
  },
  {
   "cell_type": "markdown",
   "metadata": {},
   "source": [
    "Now I'll count the total number of re-admissions in the dataset. This includes EMERGENCY and URGENT re-admissions because according to the MIMIC [website](https://mimic.physionet.org/mimictables/admissions/) _\"Emergency/urgent indicate unplanned medical care, and are often collapsed into a single category in studies.\"_"
   ]
  },
  {
   "cell_type": "code",
   "execution_count": 25,
   "metadata": {},
   "outputs": [
    {
     "data": {
      "text/plain": [
       "EMERGENCY    9561\n",
       "URGENT        144\n",
       "Name: NEXT_ADMISSION_TYPE, dtype: int64"
      ]
     },
     "execution_count": 25,
     "metadata": {},
     "output_type": "execute_result"
    }
   ],
   "source": [
    "df_adm['NEXT_ADMISSION_TYPE'].value_counts()"
   ]
  },
  {
   "cell_type": "code",
   "execution_count": 26,
   "metadata": {},
   "outputs": [
    {
     "data": {
      "text/plain": [
       "9705"
      ]
     },
     "execution_count": 26,
     "metadata": {},
     "output_type": "execute_result"
    }
   ],
   "source": [
    "df_adm['NEXT_ADMISSION_TYPE'].count()"
   ]
  },
  {
   "cell_type": "markdown",
   "metadata": {},
   "source": [
    "There are 9705 total re-admissions."
   ]
  },
  {
   "cell_type": "markdown",
   "metadata": {},
   "source": [
    "This only works for non-null values and as we can see below there are 35,616 null values, so I will have to filter out the null values. "
   ]
  },
  {
   "cell_type": "code",
   "execution_count": 27,
   "metadata": {},
   "outputs": [
    {
     "data": {
      "text/plain": [
       "True     35616\n",
       "False     9705\n",
       "Name: DAYS_TIL_NEXT_ADMIT, dtype: int64"
      ]
     },
     "execution_count": 27,
     "metadata": {},
     "output_type": "execute_result"
    }
   ],
   "source": [
    "pd.isnull(df_adm.DAYS_TIL_NEXT_ADMIT).value_counts()"
   ]
  },
  {
   "cell_type": "markdown",
   "metadata": {},
   "source": [
    "In the dataset there are 45,321 hospitalizations with 9,705 re-admissions. For those with re-admissions I can plot the histogram of days between admissions."
   ]
  },
  {
   "cell_type": "code",
   "execution_count": 28,
   "metadata": {},
   "outputs": [
    {
     "data": {
      "image/png": "[encoded data removed]",
      "text/plain": [
       "<Figure size 432x288 with 1 Axes>"
      ]
     },
     "metadata": {
      "needs_background": "light"
     },
     "output_type": "display_data"
    }
   ],
   "source": [
    "plt.hist(df_adm.loc[~df_adm.DAYS_TIL_NEXT_ADMIT.isnull(),'DAYS_TIL_NEXT_ADMIT'], bins =range(0,365,30))\n",
    "plt.xlim([0,365])\n",
    "plt.xlabel('Days between admissions')\n",
    "plt.ylabel('Counts')\n",
    "plt.xticks(np.arange(0, 365, 30))\n",
    "plt.title('Histogram of 30-day unplanned re-admissions over 365 days')\n",
    "plt.show()"
   ]
  },
  {
   "cell_type": "markdown",
   "metadata": {},
   "source": [
    "# Load `NOTEEVENTS` Table\n",
    "Now I'm ready to work with the NOTEEVENTS table."
   ]
  },
  {
   "cell_type": "code",
   "execution_count": 29,
   "metadata": {},
   "outputs": [
    {
     "name": "stderr",
     "output_type": "stream",
     "text": [
      "/Users/nwams/anaconda3/lib/python3.7/site-packages/IPython/core/interactiveshell.py:3049: DtypeWarning: Columns (4,5) have mixed types. Specify dtype option on import or set low_memory=False.\n",
      "  interactivity=interactivity, compiler=compiler, result=result)\n"
     ]
    }
   ],
   "source": [
    "df_notes = pd.read_csv(\"NOTEEVENTS.csv\")"
   ]
  },
  {
   "cell_type": "markdown",
   "metadata": {},
   "source": [
    "The Warning above happens because column 4 (`HADM_ID`) has some integers and some missing values (NaN). Therefore I cannot use the `dtype={'HADM_ID': 'int64'}` to force it to read as all integers. In this case, Pandas default behavior is to read it as floats."
   ]
  },
  {
   "cell_type": "markdown",
   "metadata": {},
   "source": [
    "## I'll spend some time exploring the data."
   ]
  },
  {
   "cell_type": "code",
   "execution_count": null,
   "metadata": {
    "scrolled": true
   },
   "outputs": [],
   "source": [
    "# Look at the first 5 rows\n",
    "df_notes.head()"
   ]
  },
  {
   "cell_type": "code",
   "execution_count": 31,
   "metadata": {},
   "outputs": [
    {
     "name": "stdout",
     "output_type": "stream",
     "text": [
      "Number of notes: 2083180\n"
     ]
    }
   ],
   "source": [
    "print('Number of notes:', len(df_notes))"
   ]
  },
  {
   "cell_type": "markdown",
   "metadata": {},
   "source": [
    "There are 2,083,180 notes. The number of notes is much higher than the number of hospitalizations (45,321) because there can be multiple notes per hospitalization. "
   ]
  },
  {
   "cell_type": "code",
   "execution_count": 32,
   "metadata": {
    "scrolled": true
   },
   "outputs": [
    {
     "data": {
      "text/plain": [
       "ROW_ID           int64\n",
       "SUBJECT_ID       int64\n",
       "HADM_ID        float64\n",
       "CHARTDATE       object\n",
       "CHARTTIME       object\n",
       "STORETIME       object\n",
       "CATEGORY        object\n",
       "DESCRIPTION     object\n",
       "CGID           float64\n",
       "ISERROR        float64\n",
       "TEXT            object\n",
       "dtype: object"
      ]
     },
     "execution_count": 32,
     "metadata": {},
     "output_type": "execute_result"
    }
   ],
   "source": [
    "df_notes.dtypes"
   ]
  },
  {
   "cell_type": "markdown",
   "metadata": {},
   "source": [
    "The main columns of interest from the [NOTEEVENTS](https://mimic.physionet.org/mimictables/noteevents/) table are: \n",
    "* SUBJECT_ID\n",
    "* HADM_ID\n",
    "* CHARTDATE &mdash; records the date at which the note was charted. CHARTDATE will always have a time value of 00:00:00.\n",
    "* CATEGORY &mdash; defines the type of note recorded.\n",
    "* TEXT &mdash; contains the note text."
   ]
  },
  {
   "cell_type": "code",
   "execution_count": 33,
   "metadata": {},
   "outputs": [
    {
     "data": {
      "text/plain": [
       "231836"
      ]
     },
     "execution_count": 33,
     "metadata": {},
     "output_type": "execute_result"
    }
   ],
   "source": [
    "df_notes.HADM_ID.isnull().sum()"
   ]
  },
  {
   "cell_type": "markdown",
   "metadata": {},
   "source": [
    "There are 231,836 null `HADM_ID` values. This means that over 11% of the notes are missing unique hospitalization identifiers (HADM_IDs). This seems like it could be problematic so I'll investigate what might be causing this."
   ]
  },
  {
   "cell_type": "markdown",
   "metadata": {},
   "source": [
    "Let's see if any `CHARTDATE` values are missing. "
   ]
  },
  {
   "cell_type": "code",
   "execution_count": 34,
   "metadata": {},
   "outputs": [
    {
     "data": {
      "text/plain": [
       "0"
      ]
     },
     "execution_count": 34,
     "metadata": {},
     "output_type": "execute_result"
    }
   ],
   "source": [
    "df_notes.CHARTDATE.isnull().sum()"
   ]
  },
  {
   "cell_type": "markdown",
   "metadata": {},
   "source": [
    "Great, all records have a `CHARTDATE`."
   ]
  },
  {
   "cell_type": "markdown",
   "metadata": {},
   "source": [
    "Let's see if any `TEXT` values are missing."
   ]
  },
  {
   "cell_type": "code",
   "execution_count": 35,
   "metadata": {},
   "outputs": [
    {
     "data": {
      "text/plain": [
       "0"
      ]
     },
     "execution_count": 35,
     "metadata": {},
     "output_type": "execute_result"
    }
   ],
   "source": [
    "df_notes.TEXT.isnull().sum()"
   ]
  },
  {
   "cell_type": "markdown",
   "metadata": {},
   "source": [
    "Great, all records have `TEXT` values."
   ]
  },
  {
   "cell_type": "markdown",
   "metadata": {},
   "source": [
    "Let's see what type of information is in the CATEGORY column."
   ]
  },
  {
   "cell_type": "code",
   "execution_count": null,
   "metadata": {},
   "outputs": [],
   "source": [
    "df_notes['CATEGORY'].value_counts()"
   ]
  },
  {
   "cell_type": "markdown",
   "metadata": {},
   "source": [
    "The `CATEGORY` column contains Nursing/other, Radiology, Nursing, ECG, Physician, Discharge summary, Echo, Respiratory, Nutrition, General, Rehab Services, Social Work, Case Management, Pharmacy and Consult."
   ]
  },
  {
   "cell_type": "markdown",
   "metadata": {},
   "source": [
    "Let's look at the contents of the first note from the `TEXT` column."
   ]
  },
  {
   "cell_type": "code",
   "execution_count": null,
   "metadata": {},
   "outputs": [],
   "source": [
    "df_notes.TEXT.iloc[0]"
   ]
  },
  {
   "cell_type": "markdown",
   "metadata": {},
   "source": [
    "Due to data privacy agreements I can't show the contents of the individual notes, but I will just describe them. In the notes, the dates and any _Protected Health Information_ like name, doctor and location have been converted for confidentiality. There are also newline characters `\\n`, numbers and punctuation."
   ]
  },
  {
   "cell_type": "markdown",
   "metadata": {},
   "source": [
    "### Investigate Why HADM_ID's are missing\n",
    "Before going any further, I need to figure out why approx. 11% of the notes are missing.\n",
    "\n",
    "I found an **important** discovery on the MIMIC [site](https://mimic.physionet.org/mimictables/noteevents/):\n",
    "* If a patient is an **outpatient**, there will not be an HADM_ID associated with the note. \n",
    "    * An outpatient is a patient who receives medical treatment without being admitted to a hospital\n",
    "\n",
    "\n",
    "* If the patient is an **inpatient**, but was not admitted to the ICU for that particular hospital admission, then there will not be an HADM_ID associated with the note.\n",
    "    * An inpatient is a patient who stays in a hospital while under treatment.\n",
    "\n",
    "This explains why some HADM_IDs are missing. Let's move on."
   ]
  },
  {
   "cell_type": "markdown",
   "metadata": {},
   "source": [
    "## Remove notes for death admissions\n",
    "Before I concatenate notes for each patient, I need to remove the death admission notes as well. So that notes for dead patients don't influence my model later. Remember that earlier I removed deaths from the `df_adm` dataframe so now I'll something similar for `df_notes`."
   ]
  },
  {
   "cell_type": "code",
   "execution_count": null,
   "metadata": {},
   "outputs": [],
   "source": [
    "df_notes = df_notes[~df_notes['HADM_ID'].isin(hadm_death_list)]\n",
    "df_notes"
   ]
  },
  {
   "cell_type": "code",
   "execution_count": 39,
   "metadata": {},
   "outputs": [
    {
     "name": "stdout",
     "output_type": "stream",
     "text": [
      "Number of notes after deaths were removed: 1841968\n"
     ]
    }
   ],
   "source": [
    "print('Number of notes after deaths were removed:', len(df_notes))"
   ]
  },
  {
   "cell_type": "markdown",
   "metadata": {},
   "source": [
    "## Concatenate Notes for Each Patient"
   ]
  },
  {
   "cell_type": "markdown",
   "metadata": {},
   "source": [
    "Since there are multiple notes per hospitalization, I will decide to concatenate **all** of the notes that belong to a patient. An alternative approach would be to use just the discharge summary, however I wanted to give the Deep Learning algorithm a full taste of the data. This will give the Neural Network the opportunity to extract insights about which features are relevant."
   ]
  },
  {
   "cell_type": "markdown",
   "metadata": {},
   "source": [
    "When concatenating the notes, I want to maintain chronological order. To determine the order I'll use the `CHARTDATE` column along with `CHARTTIME`, if it's available, because some `CHARTTIME` entries have missing (`null`) values according to the MIMIC [site](https://mimic.physionet.org/mimictables/noteevents/)."
   ]
  },
  {
   "cell_type": "markdown",
   "metadata": {},
   "source": [
    "Convert the dates to datetime format."
   ]
  },
  {
   "cell_type": "code",
   "execution_count": 40,
   "metadata": {},
   "outputs": [],
   "source": [
    "# Convert CHARTDATE from string to a datetime format\n",
    "df_notes.CHARTDATE = pd.to_datetime(df_notes.CHARTDATE, format = '%Y-%m-%d', errors = 'coerce')\n",
    "\n",
    "# Convert CHARTTIME to datetime format\n",
    "df_notes.CHARTTIME = pd.to_datetime(df_notes.CHARTTIME, format = '%Y-%m-%d %H:%M:%S', errors = 'coerce')"
   ]
  },
  {
   "cell_type": "code",
   "execution_count": 41,
   "metadata": {},
   "outputs": [
    {
     "name": "stdout",
     "output_type": "stream",
     "text": [
      "datetime64[ns]\n",
      "datetime64[ns]\n"
     ]
    }
   ],
   "source": [
    "# Ensure it did what I intended\n",
    "print(df_notes.CHARTDATE.dtypes)\n",
    "print(df_notes.CHARTTIME.dtypes)"
   ]
  },
  {
   "cell_type": "markdown",
   "metadata": {},
   "source": [
    "Now that the dates were converted successfully, now I can sort each patient's notes in order of the date that it was entered. If the dates happen to be the same I will order it by whichever comes first in the table."
   ]
  },
  {
   "cell_type": "code",
   "execution_count": 42,
   "metadata": {},
   "outputs": [],
   "source": [
    "# Sort by subject_ID, CHARTDATE then CHARTTIME\n",
    "df_notes = df_notes.sort_values(['SUBJECT_ID','CHARTDATE', 'CHARTTIME'])\n",
    "df_notes = df_notes.reset_index(drop = True)"
   ]
  },
  {
   "cell_type": "code",
   "execution_count": null,
   "metadata": {
    "scrolled": true
   },
   "outputs": [],
   "source": [
    "# Preview to ensure it did what I intended\n",
    "df_notes[['SUBJECT_ID', 'HADM_ID', 'CHARTDATE', 'CHARTTIME', 'TEXT']]"
   ]
  },
  {
   "cell_type": "markdown",
   "metadata": {},
   "source": [
    "It looks good, so I'll keep going. "
   ]
  },
  {
   "cell_type": "code",
   "execution_count": null,
   "metadata": {
    "scrolled": true
   },
   "outputs": [],
   "source": [
    "# Inspect\n",
    "df_notes[['SUBJECT_ID', 'HADM_ID', 'TEXT']].head(10)"
   ]
  },
  {
   "cell_type": "markdown",
   "metadata": {},
   "source": [
    "Everything looks good, as expected."
   ]
  },
  {
   "cell_type": "markdown",
   "metadata": {},
   "source": [
    "Create a new dataframe that contains the columns: `SUBJECT_ID`, and all concatenated notes for each patient. I am basically squashing all notes down to one `SUBJECT_ID`."
   ]
  },
  {
   "cell_type": "code",
   "execution_count": 49,
   "metadata": {},
   "outputs": [],
   "source": [
    "# Copy over two columns to new dataframe\n",
    "df_subj_concat_notes = df_notes[['SUBJECT_ID', 'TEXT']].copy()"
   ]
  },
  {
   "cell_type": "code",
   "execution_count": null,
   "metadata": {
    "scrolled": true
   },
   "outputs": [],
   "source": [
    "df_subj_concat_notes.head()"
   ]
  },
  {
   "cell_type": "markdown",
   "metadata": {},
   "source": [
    "Concatenate notes that belong to the same SUBJECT_ID and compress the SUBJECT_ID. Special thanks to this great Stack Overflow [answer](https://stackoverflow.com/questions/53781634/aggregation-in-pandas) on performing string aggregation."
   ]
  },
  {
   "cell_type": "code",
   "execution_count": 51,
   "metadata": {},
   "outputs": [],
   "source": [
    "df_subj_concat_notes = df_subj_concat_notes.groupby('SUBJECT_ID')['TEXT'].agg(' '.join).reset_index()"
   ]
  },
  {
   "cell_type": "code",
   "execution_count": null,
   "metadata": {
    "scrolled": true
   },
   "outputs": [],
   "source": [
    "# Rename the column in new dataframe to TEXT_CONCAT\n",
    "df_subj_concat_notes.rename(columns={\"TEXT\":\"TEXT_CONCAT\"}, inplace=True)\n",
    "df_subj_concat_notes.head()"
   ]
  },
  {
   "cell_type": "markdown",
   "metadata": {},
   "source": [
    "Check one cell to ensure you see combined notes."
   ]
  },
  {
   "cell_type": "code",
   "execution_count": null,
   "metadata": {
    "scrolled": true
   },
   "outputs": [],
   "source": [
    "df_subj_concat_notes.TEXT_CONCAT.iloc[0]"
   ]
  },
  {
   "cell_type": "markdown",
   "metadata": {},
   "source": [
    "Since the next step is to merge the notes with the admissions table, let's double check that every `SUBJECT_ID` is unique (no duplicates). I can check this with an assert statement."
   ]
  },
  {
   "cell_type": "code",
   "execution_count": 54,
   "metadata": {},
   "outputs": [],
   "source": [
    "assert df_subj_concat_notes.duplicated(['SUBJECT_ID']).sum() == 0, 'Dulpicate SUBJECT_IDs exist'"
   ]
  },
  {
   "cell_type": "markdown",
   "metadata": {},
   "source": [
    "No errors, let's keep going. "
   ]
  },
  {
   "cell_type": "markdown",
   "metadata": {},
   "source": [
    "Check if there are missing `TEXT` fields."
   ]
  },
  {
   "cell_type": "code",
   "execution_count": 55,
   "metadata": {},
   "outputs": [
    {
     "name": "stdout",
     "output_type": "stream",
     "text": [
      "Number of missing TEXT fields: 0\n"
     ]
    }
   ],
   "source": [
    "print('Number of missing TEXT fields:', df_subj_concat_notes.TEXT_CONCAT.isnull().sum())"
   ]
  },
  {
   "cell_type": "markdown",
   "metadata": {},
   "source": [
    "**Remember:** earlier I removed Newborns from the admission's table. I need to also remove Newborn remnants from this table as well to ensure they are not considered. But if there was any trace of newborns left, it would automatically take care of itself when I left-merge the two tables together. The same is true for deaths, the merge should automatically handle this as well."
   ]
  },
  {
   "cell_type": "markdown",
   "metadata": {},
   "source": [
    "# Merge Datasets\n",
    "Now I'm ready to merge the admissions and concatenated notes tables. I use a left merge. There are a lot of cases where you get multiple rows after a merge (although we dealt with it above), it's a good idea to be extra careful and add assert statements after a merge."
   ]
  },
  {
   "cell_type": "code",
   "execution_count": 56,
   "metadata": {},
   "outputs": [],
   "source": [
    "df_adm_notes = pd.merge(df_adm[['SUBJECT_ID','HADM_ID','ADMITTIME','DISCHTIME','DAYS_TIL_NEXT_ADMIT','NEXT_ADMITTIME','ADMISSION_TYPE','DEATHTIME']],\n",
    "                        df_subj_concat_notes, \n",
    "                        on = ['SUBJECT_ID'],\n",
    "                        how = 'left')\n",
    "assert len(df_adm) == len(df_adm_notes), 'Number of rows increased'"
   ]
  },
  {
   "cell_type": "code",
   "execution_count": null,
   "metadata": {},
   "outputs": [],
   "source": [
    "df_adm_notes"
   ]
  },
  {
   "cell_type": "code",
   "execution_count": null,
   "metadata": {
    "scrolled": true
   },
   "outputs": [],
   "source": [
    "df_adm_notes.loc[df_adm_notes.SUBJECT_ID == 124]"
   ]
  },
  {
   "cell_type": "markdown",
   "metadata": {},
   "source": [
    "Looks like the merge went as expected. You'll notice that in the `df_adm_notes` table that even though there cases with duplicate `SUBJECT_ID`s each duplicate `SUBJECT_ID` still contains identical notes. This is almost how I want it but not quite.\n",
    "\n",
    "Instead of identical notes for duplicate `SUBJECT_ID`s I'd like to only keep one note per `SUBJECT_ID` (so that when I apply Bag-of-Words later the words counts will be correct/not duplicated). "
   ]
  },
  {
   "cell_type": "markdown",
   "metadata": {},
   "source": [
    "Check how many admissions don't have notes:"
   ]
  },
  {
   "cell_type": "code",
   "execution_count": 59,
   "metadata": {},
   "outputs": [
    {
     "data": {
      "text/plain": [
       "49"
      ]
     },
     "execution_count": 59,
     "metadata": {},
     "output_type": "execute_result"
    }
   ],
   "source": [
    "df_adm_notes.TEXT_CONCAT.isnull().sum()"
   ]
  },
  {
   "cell_type": "markdown",
   "metadata": {},
   "source": [
    "49 admissions don't have notes."
   ]
  },
  {
   "cell_type": "code",
   "execution_count": 60,
   "metadata": {},
   "outputs": [
    {
     "name": "stdout",
     "output_type": "stream",
     "text": [
      "Only 0.11% of the admissions are missing.\n"
     ]
    }
   ],
   "source": [
    "perc_missing_notes = (df_adm_notes.TEXT_CONCAT.isnull().sum() / len(df_adm_notes))*100\n",
    "print(\"Only {:.2f}% of the admissions are missing.\".format(perc_missing_notes))"
   ]
  },
  {
   "cell_type": "markdown",
   "metadata": {},
   "source": [
    "I could do more digging but since this is less than 1% let's move forward."
   ]
  },
  {
   "cell_type": "markdown",
   "metadata": {},
   "source": [
    "# Make Output Label"
   ]
  },
  {
   "cell_type": "markdown",
   "metadata": {},
   "source": [
    "For this problem, we are going to classify if a patient will be admitted in the next 30 days. Therefore, we need to create a variable with the output label (1 = readmitted, 0 = not readmitted)."
   ]
  },
  {
   "cell_type": "markdown",
   "metadata": {},
   "source": [
    "Now I'll create a column in the dataframe called `OUTPUT_LABEL` that holds the predictions:\n",
    "* 1 for re-admitted\n",
    "* 0 for not re-admitted."
   ]
  },
  {
   "cell_type": "markdown",
   "metadata": {},
   "source": [
    "**Remember** we want to predict if the patient was re-admitted **within 30 days**. A hospitalization is considered a \"re-admission\" if its admission date was within 30 days after discharge of a hospitalization."
   ]
  },
  {
   "cell_type": "code",
   "execution_count": 61,
   "metadata": {},
   "outputs": [],
   "source": [
    "# Create new column of 1's or 0's based on DAYS_TIL_NEXT_ADMIT\n",
    "df_adm_notes['OUTPUT_LABEL'] = (df_adm_notes.DAYS_TIL_NEXT_ADMIT < 30).astype('int')"
   ]
  },
  {
   "cell_type": "markdown",
   "metadata": {},
   "source": [
    "I'll take a quick count of positive and negative results."
   ]
  },
  {
   "cell_type": "code",
   "execution_count": 62,
   "metadata": {},
   "outputs": [
    {
     "name": "stdout",
     "output_type": "stream",
     "text": [
      "Number of positive samples: 2549\n",
      "Number of negative samples: 42772\n",
      "Total samples: 45321\n"
     ]
    }
   ],
   "source": [
    "print('Number of positive samples:', (df_adm_notes.OUTPUT_LABEL == 1).sum())\n",
    "print('Number of negative samples:', (df_adm_notes.OUTPUT_LABEL == 0).sum())\n",
    "print('Total samples:', len(df_adm_notes))"
   ]
  },
  {
   "cell_type": "markdown",
   "metadata": {},
   "source": [
    "There are 2,549 positive samples and 42,772 negative samples which means this is an imbalanced dataset &mdash; which is very common in healthcare analytics projects."
   ]
  },
  {
   "cell_type": "code",
   "execution_count": null,
   "metadata": {},
   "outputs": [],
   "source": [
    "df_adm_notes"
   ]
  },
  {
   "cell_type": "markdown",
   "metadata": {},
   "source": [
    "## Poking around to figure out if I can squash SUBJECT_IDs safely"
   ]
  },
  {
   "cell_type": "markdown",
   "metadata": {},
   "source": [
    "See IDs with multiple hospitalizations"
   ]
  },
  {
   "cell_type": "code",
   "execution_count": null,
   "metadata": {
    "scrolled": true
   },
   "outputs": [],
   "source": [
    "df_adm_notes.SUBJECT_ID.value_counts() "
   ]
  },
  {
   "cell_type": "markdown",
   "metadata": {},
   "source": [
    "Now, I will squash SUBJECT_IDs so that there is only one SUBJECT_ID per patient (no multiples). Remember in the problem definition at the beginning (in-line with this source [paper](https://arxiv.org/pdf/1801.07860.pdf) that inspired this project), readmissions can only be counted once. So as long as a patient has had one readmission that falls within a 30 day window, they will receive an output label of 1, and all other patients who either were readmitted but not within 30 days or who were never readmitted will receive an output label of 0."
   ]
  },
  {
   "cell_type": "markdown",
   "metadata": {},
   "source": [
    "The only columns that are important for me to carry on moving forward now are:\n",
    "* `SUBJECT_ID`\n",
    "* `TEXT_CONCAT`\n",
    "* `OUTPUT_LABEL`"
   ]
  },
  {
   "cell_type": "code",
   "execution_count": null,
   "metadata": {
    "scrolled": true
   },
   "outputs": [],
   "source": [
    "# Take only the 3 essential columns\n",
    "df_adm_notes_squashed = df_adm_notes[['SUBJECT_ID', 'TEXT_CONCAT', 'OUTPUT_LABEL']]\n",
    "df_adm_notes_squashed.head()"
   ]
  },
  {
   "cell_type": "markdown",
   "metadata": {},
   "source": [
    "Create a new dataframe that officially squashes (compresses) the `SUBJECT_ID` column. \n",
    "Then sum the output labels. \n",
    "Notice that during the squash, the `TEXT_CONCAT` notes are not taken over. \n",
    "\n",
    "I will merge the newly created `df_subj_labels_squashed` with `df_adm_notes_squashed` later to fix that."
   ]
  },
  {
   "cell_type": "code",
   "execution_count": null,
   "metadata": {
    "scrolled": true
   },
   "outputs": [],
   "source": [
    "df_subj_labels_squashed = df_adm_notes_squashed.groupby('SUBJECT_ID')[['OUTPUT_LABEL']].sum().reset_index()\n",
    "df_subj_labels_squashed.head()"
   ]
  },
  {
   "cell_type": "markdown",
   "metadata": {},
   "source": [
    "Rename the column in new dataframe to `OUTPUT_LABELS_SUMMED`"
   ]
  },
  {
   "cell_type": "code",
   "execution_count": null,
   "metadata": {
    "scrolled": true
   },
   "outputs": [],
   "source": [
    "df_subj_labels_squashed.rename(columns={\"OUTPUT_LABEL\":\"OUTPUT_LABELS_SUMMED\"}, inplace=True)\n",
    "df_subj_labels_squashed.head()"
   ]
  },
  {
   "cell_type": "markdown",
   "metadata": {},
   "source": [
    "Preview a `SUBJECT_ID` that has an `OUTPUT_LABEL` >= to 1"
   ]
  },
  {
   "cell_type": "code",
   "execution_count": null,
   "metadata": {
    "scrolled": true
   },
   "outputs": [],
   "source": [
    "df_subj_labels_squashed.loc[df_subj_labels_squashed.SUBJECT_ID == 109]"
   ]
  },
  {
   "cell_type": "markdown",
   "metadata": {},
   "source": [
    "Set 1 to `OUTPUT_LABEL` if the `OUTPUT_LABELS_SUMMED` are greater than or equal to 1. This essentially means that several readmissions per patient are counted only once."
   ]
  },
  {
   "cell_type": "code",
   "execution_count": null,
   "metadata": {
    "scrolled": true
   },
   "outputs": [],
   "source": [
    "df_subj_labels_squashed['OUTPUT_LABEL'] = (df_subj_labels_squashed['OUTPUT_LABELS_SUMMED'] >= 1).astype(int)\n",
    "df_subj_labels_squashed"
   ]
  },
  {
   "cell_type": "code",
   "execution_count": null,
   "metadata": {
    "scrolled": true
   },
   "outputs": [],
   "source": [
    "df_subj_labels_squashed.loc[df_subj_labels_squashed.SUBJECT_ID == 109]"
   ]
  },
  {
   "cell_type": "markdown",
   "metadata": {},
   "source": [
    "Drop the `OUTPUT_LABELS_SUMMED` column as it's no longer needed."
   ]
  },
  {
   "cell_type": "code",
   "execution_count": 72,
   "metadata": {},
   "outputs": [],
   "source": [
    "df_subj_labels_squashed.drop(columns=['OUTPUT_LABELS_SUMMED'], inplace=True)"
   ]
  },
  {
   "cell_type": "code",
   "execution_count": null,
   "metadata": {
    "scrolled": true
   },
   "outputs": [],
   "source": [
    "# Verify the column dropped\n",
    "df_subj_labels_squashed.head()"
   ]
  },
  {
   "cell_type": "markdown",
   "metadata": {},
   "source": [
    "Before merging drop the `OUTPUT_LABEL` from the original `df_adm_notes_squashed` table. It's no longer needed because the `OUTPUT_LABEL` on the `df_subj_labels_squashed` is the correct one we'll use moving forward."
   ]
  },
  {
   "cell_type": "code",
   "execution_count": 74,
   "metadata": {},
   "outputs": [
    {
     "name": "stderr",
     "output_type": "stream",
     "text": [
      "/Users/nwams/anaconda3/lib/python3.7/site-packages/pandas/core/frame.py:3940: SettingWithCopyWarning: \n",
      "A value is trying to be set on a copy of a slice from a DataFrame\n",
      "\n",
      "See the caveats in the documentation: http://pandas.pydata.org/pandas-docs/stable/indexing.html#indexing-view-versus-copy\n",
      "  errors=errors)\n"
     ]
    },
    {
     "data": {
      "text/plain": [
       "Index(['SUBJECT_ID', 'TEXT_CONCAT'], dtype='object')"
      ]
     },
     "execution_count": 74,
     "metadata": {},
     "output_type": "execute_result"
    }
   ],
   "source": [
    "df_adm_notes_squashed.drop(columns=['OUTPUT_LABEL'], inplace=True)\n",
    "df_adm_notes_squashed.columns"
   ]
  },
  {
   "cell_type": "code",
   "execution_count": 75,
   "metadata": {},
   "outputs": [
    {
     "name": "stderr",
     "output_type": "stream",
     "text": [
      "/Users/nwams/anaconda3/lib/python3.7/site-packages/ipykernel_launcher.py:2: SettingWithCopyWarning: \n",
      "A value is trying to be set on a copy of a slice from a DataFrame\n",
      "\n",
      "See the caveats in the documentation: http://pandas.pydata.org/pandas-docs/stable/indexing.html#indexing-view-versus-copy\n",
      "  \n"
     ]
    }
   ],
   "source": [
    "# prepping for merge: Drop duplicates in df_adm_notes_squashed\n",
    "df_adm_notes_squashed.drop_duplicates(subset='SUBJECT_ID', keep='first', inplace=True)"
   ]
  },
  {
   "cell_type": "code",
   "execution_count": 76,
   "metadata": {},
   "outputs": [
    {
     "name": "stdout",
     "output_type": "stream",
     "text": [
      "Check that the two dataframes are of equal length before merging.\n",
      "Length of df_adm_notes_squashed: 34560\n",
      "Length of df_subj_labels_squashed: 34560\n"
     ]
    }
   ],
   "source": [
    "print('Check that the two dataframes are of equal length before merging.')\n",
    "print('Length of df_adm_notes_squashed:', len(df_adm_notes_squashed))\n",
    "print('Length of df_subj_labels_squashed:', len(df_subj_labels_squashed))"
   ]
  },
  {
   "cell_type": "markdown",
   "metadata": {},
   "source": [
    "Merge the two tables so we can get our notes back alongside the output_label."
   ]
  },
  {
   "cell_type": "code",
   "execution_count": 78,
   "metadata": {},
   "outputs": [],
   "source": [
    "df_adm_notes_merged = pd.merge(df_subj_labels_squashed[['SUBJECT_ID','OUTPUT_LABEL']],\n",
    "                        df_adm_notes_squashed, \n",
    "                        on = ['SUBJECT_ID'],\n",
    "                        how = 'left')\n",
    "assert len(df_subj_labels_squashed) == len(df_adm_notes_merged), 'Number of rows increased'"
   ]
  },
  {
   "cell_type": "code",
   "execution_count": null,
   "metadata": {
    "scrolled": true
   },
   "outputs": [],
   "source": [
    "df_adm_notes_merged.head()"
   ]
  },
  {
   "cell_type": "code",
   "execution_count": null,
   "metadata": {
    "scrolled": true
   },
   "outputs": [],
   "source": [
    "# swap order of columns\n",
    "df_adm_notes_merged = df_adm_notes_merged[['SUBJECT_ID', 'TEXT_CONCAT', 'OUTPUT_LABEL']]\n",
    "df_adm_notes_merged.head()"
   ]
  },
  {
   "cell_type": "markdown",
   "metadata": {},
   "source": [
    "# Make training / validation / test sets"
   ]
  },
  {
   "cell_type": "markdown",
   "metadata": {},
   "source": [
    "Split the data into training, validation and test sets. \n",
    "\n",
    "1. Training set &mdash; used to train the model.\n",
    "2. Validation set &mdash; data that the model hasn't seen, but it is used to optimize/tune the model. \n",
    "3. Test set &mdash; data that both the model and tuning process have never seen. It is the true test of generalizability.\n",
    "\n",
    "The validation and test set should be as close to the production data as possible. We don't want to make decisions on validation data that is not from same type of data as the test set.\n",
    "\n",
    "I'll set the `random_state` = 42 for reproduciblity so that I can benchmark my results against Andrew Long's [results](https://towardsdatascience.com/introduction-to-clinical-natural-language-processing-predicting-hospital-readmission-with-1736d52bc709)."
   ]
  },
  {
   "cell_type": "markdown",
   "metadata": {},
   "source": [
    "Shuffle the samples"
   ]
  },
  {
   "cell_type": "code",
   "execution_count": null,
   "metadata": {
    "scrolled": true
   },
   "outputs": [],
   "source": [
    "df_adm_notes_merged = df_adm_notes_merged.sample(n=len(df_adm_notes_merged), random_state=42)\n",
    "df_adm_notes_merged = df_adm_notes_merged.reset_index(drop=True)\n",
    "df_adm_notes_merged.head()"
   ]
  },
  {
   "cell_type": "markdown",
   "metadata": {},
   "source": [
    "The SUBJECT_IDs are no longer in ascending order, so this indicates the shuffle went as planned."
   ]
  },
  {
   "cell_type": "markdown",
   "metadata": {},
   "source": [
    "Randomly split patients into training sets (80%), validation sets (10%), and test (10%) sets."
   ]
  },
  {
   "cell_type": "code",
   "execution_count": 82,
   "metadata": {},
   "outputs": [],
   "source": [
    "df_valid_and_test = df_adm_notes_merged.sample(frac=0.20, random_state=42)\n",
    "\n",
    "df_test = df_valid_and_test.sample(frac=0.5, random_state=42)\n",
    "df_valid = df_valid_and_test.drop(df_test.index)\n",
    "\n",
    "df_train = df_adm_notes_merged.drop(df_valid_and_test.index)\n",
    "\n",
    "assert len(df_adm_notes_merged) == (len(df_test)+len(df_valid)+len(df_train)),\"Split wasn't done mathetmatically correct.\""
   ]
  },
  {
   "cell_type": "markdown",
   "metadata": {},
   "source": [
    "### Prevalence \n",
    "In the medical world prevalence is defined as the proportion of individuals in a population having a disease or characteristic. Prevalence is a statistical concept referring to the number of cases of a disease that are present in a particular population at a given time."
   ]
  },
  {
   "cell_type": "code",
   "execution_count": 83,
   "metadata": {},
   "outputs": [
    {
     "name": "stdout",
     "output_type": "stream",
     "text": [
      "Training set prevalence (n = 27648): 5.43%\n",
      "Validation set prevalence (n = 3456): 6.25%\n",
      "Test set prevalence (n = 3456): 6.45%\n",
      "All samples (n = 34560)\n"
     ]
    }
   ],
   "source": [
    "print(\"Training set prevalence (n = {:d}):\".format(len(df_train)), \"{:.2f}%\".format((df_train.OUTPUT_LABEL.sum()/len(df_train))*100))\n",
    "\n",
    "print(\"Validation set prevalence (n = {:d}):\".format(len(df_valid)), \"{:.2f}%\".format((df_valid.OUTPUT_LABEL.sum()/len(df_valid))*100))\n",
    "\n",
    "print(\"Test set prevalence (n = {:d}):\".format(len(df_test)), \"{:.2f}%\".format((df_test.OUTPUT_LABEL.sum()/len(df_test))*100))\n",
    "\n",
    "print(\"All samples (n = {:d})\".format(len(df_adm_notes_merged)))"
   ]
  },
  {
   "cell_type": "markdown",
   "metadata": {},
   "source": [
    "The prevalence's are low. \n",
    "\n",
    "In Machine Learning if the prevalence is too low we will need to balance the training data to prevent our model from always predicting negative (not re-admitted). To balance the data, we have a few options: \n",
    "1. Sub-sample the negatives\n",
    "2. Over-sample the positives\n",
    "3. Create synthetic data (e.g. SMOTE)\n",
    "\n",
    "In line with the author's choice (for benchmarking purposes) I will **sub-sample negatives for the training set**."
   ]
  },
  {
   "cell_type": "code",
   "execution_count": 84,
   "metadata": {},
   "outputs": [
    {
     "name": "stdout",
     "output_type": "stream",
     "text": [
      "Training set prevalence (n = 3000): 50.00%\n"
     ]
    }
   ],
   "source": [
    "# Split the training data into positive and negative outputs\n",
    "pos_rows = df_train.OUTPUT_LABEL == 1\n",
    "df_train_pos = df_train.loc[pos_rows]\n",
    "df_train_neg = df_train.loc[~pos_rows]\n",
    "\n",
    "# Merge the balanced data\n",
    "df_train = pd.concat([df_train_pos, df_train_neg.sample(n = len(df_train_pos), random_state=42)], axis = 0)\n",
    "\n",
    "# Shuffle the order of training samples\n",
    "df_train = df_train.sample(n = len(df_train), random_state = 42).reset_index(drop=True)\n",
    "\n",
    "print(\"Training set prevalence (n = {:d}):\".format(len(df_train)), \"{:.2f}%\".format((df_train.OUTPUT_LABEL.sum()/len(df_train))*100))"
   ]
  },
  {
   "cell_type": "markdown",
   "metadata": {},
   "source": [
    "Now the training set prevalence is 50% so the new training set is balanced (although I reduced the size significantly in order to do so)."
   ]
  },
  {
   "cell_type": "markdown",
   "metadata": {},
   "source": [
    "# Step 2: Preprocessing Pipeline\n",
    "<img src=\"images/bag_of_words.png\" width=\"400\" />"
   ]
  },
  {
   "cell_type": "markdown",
   "metadata": {},
   "source": [
    "First I'll try the Bag-of-Words (BOW) approach. Bag of words is just a group of text where the order doesn't matter. BOW just counts the occurrence of words. It's a simple and powerful way to represent text data. Ultimately, I'll feed this into the machine learning model.\n",
    "1. Lowercase text\n",
    "2. Remove punctuation\n",
    "3. Remove numbers and words that contain numbers\n",
    "4. Remove newline characters `\\n` and carriage returns `\\r`\n",
    "5. Tokenize the text\n",
    "6. Remove stop words\n",
    "7. Lemmatize &mdash; which is reducing words like “driving, drive, drives” down to it's base word drive (using Part-of-Speech tagging). It reduces the feature space making models more performant. \n",
    "\n",
    "**Side note:** The preprocessing pipeline that I'll do for conventional machine learning models now will differ from the preprocessing required for Deep Learning in part 2."
   ]
  },
  {
   "cell_type": "code",
   "execution_count": null,
   "metadata": {},
   "outputs": [],
   "source": [
    "print('Fraction of notes with newlines:', df_adm_notes_merged.TEXT_CONCAT.str.contains('\\n').sum() / len(df_adm_notes_merged))"
   ]
  },
  {
   "cell_type": "markdown",
   "metadata": {},
   "source": [
    "## Clean and Tokenize"
   ]
  },
  {
   "cell_type": "code",
   "execution_count": 86,
   "metadata": {},
   "outputs": [],
   "source": [
    "from nltk.tokenize import word_tokenize\n",
    "from nltk.corpus import stopwords\n",
    "import string\n",
    "import re\n",
    "\n",
    "from nltk import pos_tag\n",
    "from nltk.stem import WordNetLemmatizer # lemmatizes word based on its parts of speech"
   ]
  },
  {
   "cell_type": "code",
   "execution_count": 87,
   "metadata": {},
   "outputs": [
    {
     "name": "stdout",
     "output_type": "stream",
     "text": [
      "Punctuation: !\"#$%&'()*+,-./:;<=>?@[\\]^_`{|}~\n",
      "NLTK English Stop Words: \n",
      " ['i', 'me', 'my', 'myself', 'we', 'our', 'ours', 'ourselves', 'you', 'your', 'yours', 'yourself', 'yourselves', 'he', 'him', 'his', 'himself', 'she', 'her', 'hers', 'herself', 'it', 'its', 'itself', 'they', 'them', 'their', 'theirs', 'themselves', 'what', 'which', 'who', 'whom', 'this', 'that', 'these', 'those', 'am', 'is', 'are', 'was', 'were', 'be', 'been', 'being', 'have', 'has', 'had', 'having', 'do', 'does', 'did', 'doing', 'a', 'an', 'the', 'and', 'but', 'if', 'or', 'because', 'as', 'until', 'while', 'of', 'at', 'by', 'for', 'with', 'about', 'against', 'between', 'into', 'through', 'during', 'before', 'after', 'above', 'below', 'to', 'from', 'up', 'down', 'in', 'out', 'on', 'off', 'over', 'under', 'again', 'further', 'then', 'once', 'here', 'there', 'when', 'where', 'why', 'how', 'all', 'any', 'both', 'each', 'few', 'more', 'most', 'other', 'some', 'such', 'no', 'nor', 'not', 'only', 'own', 'same', 'so', 'than', 'too', 'very', 's', 't', 'can', 'will', 'just', 'don', 'should', 'now', 'd', 'll', 'm', 'o', 're', 've', 'y', 'ain', 'aren', 'couldn', 'didn', 'doesn', 'hadn', 'hasn', 'haven', 'isn', 'ma', 'mightn', 'mustn', 'needn', 'shan', 'shouldn', 'wasn', 'weren', 'won', 'wouldn']\n"
     ]
    }
   ],
   "source": [
    "print('Punctuation:', string.punctuation)\n",
    "print('NLTK English Stop Words:', '\\n', stopwords.words('english'))"
   ]
  },
  {
   "cell_type": "markdown",
   "metadata": {},
   "source": [
    "## Lemmatize"
   ]
  },
  {
   "cell_type": "markdown",
   "metadata": {},
   "source": [
    "**convert_tag**\n",
    "\n",
    "The POS tags used by the part-of-speech tagger are not the same as the POS codes used by WordNet, so I need a small mapping function `convert_tag` to convert POS tagger tags to WordNet POS codes. To convert Treebank tags to WordNet tags the mapping is as follows:\n",
    "```\n",
    "wn.VERB = 'v'\n",
    "wn.ADV = 'r'\n",
    "wn.NOUN = 'n'\n",
    "wn.ADJ = 'a'\n",
    "wn.ADJ_SAT = 's'\n",
    "```\n",
    "But we can ignore 's' because the WordNetLemmatizer in NLTK does not differentiate satellite adjectives from normal adjectives. See the WordNet [docs](http://www.nltk.org/_modules/nltk/corpus/reader/wordnet.html). The other parts of speech will be tagged as nouns. See this [post](https://stackoverflow.com/questions/51634328/wordnetlemmatizer-different-handling-of-wn-adj-and-wn-adj-sat) if you're interested in details."
   ]
  },
  {
   "cell_type": "code",
   "execution_count": 88,
   "metadata": {},
   "outputs": [],
   "source": [
    "def convert_tag(treebank_tag):\n",
    "    '''Convert Treebank tags to WordNet tags'''\n",
    "    if treebank_tag.startswith('J'):\n",
    "        return 'a'\n",
    "    elif treebank_tag.startswith('V'):\n",
    "        return 'v'\n",
    "    elif treebank_tag.startswith('N'):\n",
    "        return 'n'\n",
    "    elif treebank_tag.startswith('R'):\n",
    "        return 'r'\n",
    "    else:\n",
    "        return 'n' # if no match, default to noun"
   ]
  },
  {
   "cell_type": "markdown",
   "metadata": {},
   "source": [
    "By default, the `WordNetLemmatizer.lemmatize()` function will assume that the word is a Noun if there's no explicit POS tag in the input. To resolve the problem, always POS-tag your data before lemmatizing."
   ]
  },
  {
   "cell_type": "code",
   "execution_count": 89,
   "metadata": {},
   "outputs": [],
   "source": [
    "def lemmatizer(tokens):\n",
    "    '''\n",
    "    Performs lemmatization.\n",
    "    Params:\n",
    "        tokens (list of strings): cleaned tokens with stopwords removed\n",
    "    Returns:\n",
    "        lemma_words (list of strings): lemmatized words\n",
    "    '''  \n",
    "    # POS-tag your data before lemmatizing\n",
    "    tagged_words = pos_tag(tokens) # outputs list of tuples [('recent', 'JJ'),...]\n",
    "    \n",
    "    \n",
    "    # Lemmatize using WordNet's built-in morphy function. Returns the input word unchanged if it cannot be found in WordNet.\n",
    "    wnl = WordNetLemmatizer()\n",
    "    \n",
    "    lemma_words = []\n",
    "    \n",
    "    # Lemmatize list of tuples, output a list of strings\n",
    "    for tupl in tagged_words:\n",
    "        lemma_words.append(wnl.lemmatize(tupl[0], convert_tag(tupl[1])))\n",
    "    \n",
    "    return lemma_words"
   ]
  },
  {
   "cell_type": "markdown",
   "metadata": {},
   "source": [
    "A quick example on how it lemmatizes a list of tokens."
   ]
  },
  {
   "cell_type": "code",
   "execution_count": 90,
   "metadata": {},
   "outputs": [
    {
     "data": {
      "text/plain": [
       "['token', 'sentence', 'star', 'arrive', 'care', 'mortality']"
      ]
     },
     "execution_count": 90,
     "metadata": {},
     "output_type": "execute_result"
    }
   ],
   "source": [
    "lemmatized_tokens = lemmatizer(['token', 'sentences', 'stars', 'arriving', 'caring', 'mortality'])\n",
    "lemmatized_tokens"
   ]
  },
  {
   "cell_type": "code",
   "execution_count": 91,
   "metadata": {},
   "outputs": [],
   "source": [
    "def preprocess_and_tokenize(text):\n",
    "    '''\n",
    "    Clean the data.\n",
    "    Params:\n",
    "        text (string): full original, uncleaned text\n",
    "    Returns:\n",
    "        lemmatized_tokens (list of strings): cleaned words\n",
    "    '''\n",
    "    # Make text lowercase\n",
    "    text = text.lower()\n",
    "    \n",
    "    # Remove punctuation\n",
    "    text = re.sub('[%s]' % re.escape(string.punctuation), '', text)\n",
    "    \n",
    "    # Remove numbers and words that contain numbers\n",
    "    text = re.sub('\\w*\\d\\w*', '', text)\n",
    "    \n",
    "    # Remove newline chars and carriage returns\n",
    "    text = re.sub('\\n', '', text)\n",
    "    text = re.sub('\\r', '', text)\n",
    "    \n",
    "    # Tokenize\n",
    "    word_tokens = word_tokenize(text) \n",
    "    \n",
    "    # Remove stop words\n",
    "    tokens = [word for word in word_tokens if word not in stopwords.words('english')]\n",
    "\n",
    "    # Call lemmatizer function above to perform lemmatization\n",
    "    lemmatized_tokens = lemmatizer(tokens)\n",
    "    \n",
    "    return lemmatized_tokens"
   ]
  },
  {
   "cell_type": "markdown",
   "metadata": {},
   "source": [
    "A quick example on how it cleans and tokenizes on a simple sentence."
   ]
  },
  {
   "cell_type": "code",
   "execution_count": 92,
   "metadata": {},
   "outputs": [
    {
     "data": {
      "text/plain": [
       "['tokenized', 'sentence', 'star']"
      ]
     },
     "execution_count": 92,
     "metadata": {},
     "output_type": "execute_result"
    }
   ],
   "source": [
    "preprocess_and_tokenize('This should be tokenized. 02/02/2018 sentence has stars**')"
   ]
  },
  {
   "cell_type": "code",
   "execution_count": 93,
   "metadata": {},
   "outputs": [
    {
     "data": {
      "text/plain": [
       "['clean',\n",
       " 'tokenized',\n",
       " 'lemmatized',\n",
       " 'sentence',\n",
       " 'star',\n",
       " 'token',\n",
       " 'sentence',\n",
       " 'star',\n",
       " 'arrive',\n",
       " 'care',\n",
       " 'mortality']"
      ]
     },
     "execution_count": 93,
     "metadata": {},
     "output_type": "execute_result"
    }
   ],
   "source": [
    "preprocess_and_tokenize('This should be cleaned, tokenized and lemmatized. 02/02/2018 sentence has stars**. token, sentences, stars, arriving, caring, mortality.')"
   ]
  },
  {
   "cell_type": "markdown",
   "metadata": {},
   "source": [
    "## Count Vectorizer"
   ]
  },
  {
   "cell_type": "markdown",
   "metadata": {},
   "source": [
    "Now that I have functions that convert the notes into tokens I'll use `CountVectorizer` from scikit-learn to count the tokens for each patient's concatenated notes.\n",
    "**NOTE:** There is also a `TfidfVectorizer` which takes into account how often words are used across all notes, but for this project, I'll use the same/simpler one that the author used (the author also got similar results with the `TfidfVectorizer` one too)."
   ]
  },
  {
   "cell_type": "code",
   "execution_count": 94,
   "metadata": {},
   "outputs": [],
   "source": [
    "from sklearn.feature_extraction.text import CountVectorizer"
   ]
  },
  {
   "cell_type": "code",
   "execution_count": 95,
   "metadata": {},
   "outputs": [],
   "source": [
    "sample_text = ['Data science is about the data', 'The science is amazing', 'Predictive modeling is part of data science']"
   ]
  },
  {
   "cell_type": "code",
   "execution_count": 96,
   "metadata": {},
   "outputs": [],
   "source": [
    "vect = CountVectorizer(tokenizer=preprocess_and_tokenize)\n",
    "vect.fit(sample_text)\n",
    "\n",
    "# Store as sparse matrix since there are lots of zeros\n",
    "X = vect.transform(sample_text)"
   ]
  },
  {
   "cell_type": "code",
   "execution_count": 97,
   "metadata": {},
   "outputs": [
    {
     "data": {
      "text/plain": [
       "<3x6 sparse matrix of type '<class 'numpy.int64'>'\n",
       "\twith 9 stored elements in Compressed Sparse Row format>"
      ]
     },
     "execution_count": 97,
     "metadata": {},
     "output_type": "execute_result"
    }
   ],
   "source": [
    "X"
   ]
  },
  {
   "cell_type": "markdown",
   "metadata": {},
   "source": [
    "There are 3 rows (since we have 3 notes), and counts of each word"
   ]
  },
  {
   "cell_type": "code",
   "execution_count": 98,
   "metadata": {},
   "outputs": [
    {
     "data": {
      "text/plain": [
       "array([[0, 2, 0, 0, 0, 1],\n",
       "       [1, 0, 0, 0, 0, 1],\n",
       "       [0, 1, 1, 1, 1, 1]])"
      ]
     },
     "execution_count": 98,
     "metadata": {},
     "output_type": "execute_result"
    }
   ],
   "source": [
    "# To visualize this small sample, convert it to an array\n",
    "X.toarray()"
   ]
  },
  {
   "cell_type": "markdown",
   "metadata": {},
   "source": [
    "View the column names"
   ]
  },
  {
   "cell_type": "code",
   "execution_count": 99,
   "metadata": {},
   "outputs": [
    {
     "data": {
      "text/plain": [
       "['amazing', 'data', 'model', 'part', 'predictive', 'science']"
      ]
     },
     "execution_count": 99,
     "metadata": {},
     "output_type": "execute_result"
    }
   ],
   "source": [
    "vect.get_feature_names()"
   ]
  },
  {
   "cell_type": "markdown",
   "metadata": {},
   "source": [
    "## Build a vectorizer on the clinical notes\n",
    "Now I'll fit the CountVectorizer on the clinical notes. Remember **only use the training data**. \n",
    "\n",
    "Set the hyperparameter, `max_features`, which will use the top N most frequently used words. Later on I'll tune this to see its effect.\n",
    "\n",
    "If you're interested in learning more this [blog](https://towardsdatascience.com/natural-language-processing-count-vectorization-with-scikit-learn-e7804269bb5e) explains CountVectorizerization with scikit learn."
   ]
  },
  {
   "cell_type": "code",
   "execution_count": 100,
   "metadata": {},
   "outputs": [],
   "source": [
    "vect = CountVectorizer(max_features=3000, tokenizer=preprocess_and_tokenize)"
   ]
  },
  {
   "cell_type": "code",
   "execution_count": 101,
   "metadata": {},
   "outputs": [
    {
     "data": {
      "text/plain": [
       "CountVectorizer(analyzer='word', binary=False, decode_error='strict',\n",
       "        dtype=<class 'numpy.int64'>, encoding='utf-8', input='content',\n",
       "        lowercase=True, max_df=1.0, max_features=3000, min_df=1,\n",
       "        ngram_range=(1, 1), preprocessor=None, stop_words=None,\n",
       "        strip_accents=None, token_pattern='(?u)\\\\b\\\\w\\\\w+\\\\b',\n",
       "        tokenizer=<function preprocess_and_tokenize at 0x16aa870d0>,\n",
       "        vocabulary=None)"
      ]
     },
     "execution_count": 101,
     "metadata": {},
     "output_type": "execute_result"
    }
   ],
   "source": [
    "# this could take a while depending on your computer, took many hours\n",
    "# I applied .astype(str) to fix the ValueError: np.nan is an invalid document, expected byte or unicode string.xc\n",
    "\n",
    "# create the vectorizer\n",
    "vect.fit(df_train.TEXT_CONCAT.values.astype(str))"
   ]
  },
  {
   "cell_type": "markdown",
   "metadata": {},
   "source": [
    "# Zipf's Law\n",
    "Zipf's law tells you how many frequent words and rare words you are going to have in a collection of text. Here's a short [video](https://www.youtube.com/watch?v=KvOS2MdKFwE) that explains it well."
   ]
  },
  {
   "cell_type": "code",
   "execution_count": 105,
   "metadata": {},
   "outputs": [],
   "source": [
    "# Actually create a vector by passing the text into the vectorizer to get back counts\n",
    "neg_doc_matrix = vect.transform(df_train[df_train.OUTPUT_LABEL == 0].TEXT_CONCAT.astype(str))\n",
    "pos_doc_matrix = vect.transform(df_train[df_train.OUTPUT_LABEL == 1].TEXT_CONCAT.astype(str))"
   ]
  },
  {
   "cell_type": "markdown",
   "metadata": {},
   "source": [
    "Store the vectorizer and both the neg_doc_matrix and pos_doc_matrix for later use so I don't have to re-run it later on because it took a few hours to run locally. This way, I can just load it later if needed.\n",
    "\n",
    "https://stackoverflow.com/questions/32764991/how-do-i-store-a-tfidfvectorizer-for-future-use-in-scikit-learn"
   ]
  },
  {
   "cell_type": "code",
   "execution_count": 106,
   "metadata": {},
   "outputs": [],
   "source": [
    "import pickle\n",
    "pickle.dump(vect, open(\"vect.pickle\", \"wb\"))\n",
    "pickle.dump(neg_doc_matrix, open(\"neg_doc_matrix.pickle\", \"wb\"))\n",
    "pickle.dump(pos_doc_matrix, open(\"pos_doc_matrix.pickle\", \"wb\"))\n",
    "\n",
    "## load it later with \n",
    "# vectorizer = pickle.load(open(\"vectorizer.pickle\"), \"rb\"))\n",
    "# neg_doc_matrix = pickle.load(open(\"neg_doc_matrix.pickle\"), \"rb\"))\n",
    "# pos_doc_matrix = pickle.load(open(\"pos_doc_matrix.pickle\"), \"rb\"))"
   ]
  },
  {
   "cell_type": "markdown",
   "metadata": {},
   "source": [
    "Sum over the columns"
   ]
  },
  {
   "cell_type": "code",
   "execution_count": 107,
   "metadata": {},
   "outputs": [],
   "source": [
    "neg_tf = np.sum(neg_doc_matrix,axis=0)\n",
    "pos_tf = np.sum(pos_doc_matrix,axis=0)"
   ]
  },
  {
   "cell_type": "code",
   "execution_count": 108,
   "metadata": {},
   "outputs": [],
   "source": [
    "# Remove the non-useful one dimension from array\n",
    "# Helps you get rid of useless one dimension arrays e.g. [7,8,9] instead of [[[7,8,9]]]\n",
    "neg = np.squeeze(np.asarray(neg_tf))\n",
    "pos = np.squeeze(np.asarray(pos_tf))"
   ]
  },
  {
   "cell_type": "markdown",
   "metadata": {},
   "source": [
    "Now I will transform the notes into numerical matrices. I'm still only going to use the training and validation data, not the test set yet."
   ]
  },
  {
   "cell_type": "code",
   "execution_count": 115,
   "metadata": {},
   "outputs": [],
   "source": [
    "# Could take a while\n",
    "X_train_tf = vect.transform(df_train.TEXT_CONCAT.values.astype(str))\n",
    "X_valid_tf = vect.transform(df_valid.TEXT_CONCAT.values.astype(str))"
   ]
  },
  {
   "cell_type": "code",
   "execution_count": 116,
   "metadata": {},
   "outputs": [],
   "source": [
    "pickle.dump(X_train_tf, open(\"X_train_tf.pickle\", \"wb\"))\n",
    "pickle.dump(X_valid_tf, open(\"X_valid_tf.pickle\", \"wb\"))"
   ]
  },
  {
   "cell_type": "markdown",
   "metadata": {},
   "source": [
    "Get the output labels as separate variables. "
   ]
  },
  {
   "cell_type": "code",
   "execution_count": 117,
   "metadata": {},
   "outputs": [],
   "source": [
    "y_train = df_train.OUTPUT_LABEL\n",
    "y_valid = df_valid.OUTPUT_LABEL"
   ]
  },
  {
   "cell_type": "markdown",
   "metadata": {},
   "source": [
    "Now I'm finally done prepping the data for the predictive model."
   ]
  },
  {
   "cell_type": "markdown",
   "metadata": {},
   "source": [
    "# Step 3: Build a simple predictive model\n",
    "Now I will build a simple predictive model that takes the bag-of-words as inputs and predicts if a patient will be readmitted in 30 days (YES = 1, NO = 0). \n",
    "\n",
    "I will use the **Logistic Regression** model from scikit-learn. Logistic regression is a good baseline model for NLP tasks because it is interpretable and works well with sparse matrices."
   ]
  },
  {
   "cell_type": "markdown",
   "metadata": {},
   "source": [
    "I will tune 2 hyperparameters: the `C` coefficient and `penalty`: \n",
    "* `C` &mdash; Coefficient on regularization where smaller values specify stronger regularization.\n",
    "* `Penalty` &mdash; tells how to measure the regularization.\n",
    "\n",
    "Regularization is a technique to try to minimize overfitting. I wrote about it in this [section](https://medium.com/nwamaka-imasogie/neural-networks-word-embeddings-8ec8b3845b2e#4358) of one of my blogs. "
   ]
  },
  {
   "cell_type": "code",
   "execution_count": 118,
   "metadata": {},
   "outputs": [
    {
     "data": {
      "text/plain": [
       "LogisticRegression(C=0.0001, class_weight=None, dual=False,\n",
       "          fit_intercept=True, intercept_scaling=1, max_iter=100,\n",
       "          multi_class='warn', n_jobs=None, penalty='l2', random_state=42,\n",
       "          solver='warn', tol=0.0001, verbose=0, warm_start=False)"
      ]
     },
     "execution_count": 118,
     "metadata": {},
     "output_type": "execute_result"
    }
   ],
   "source": [
    "from sklearn.linear_model import LogisticRegression\n",
    "\n",
    "# Classifier\n",
    "clf = LogisticRegression(C = 0.0001, penalty = 'l2', random_state = 42)\n",
    "clf.fit(X_train_tf, y_train)"
   ]
  },
  {
   "cell_type": "code",
   "execution_count": 119,
   "metadata": {},
   "outputs": [],
   "source": [
    "pickle.dump(clf, open(\"clf.pickle\", \"wb\"))"
   ]
  },
  {
   "cell_type": "markdown",
   "metadata": {},
   "source": [
    "[Calculate the probability](https://scikit-learn.org/stable/modules/generated/sklearn.linear_model.LogisticRegression.html#sklearn.linear_model.LogisticRegression.predict_proba) of readmission for each sample with the fitted model."
   ]
  },
  {
   "cell_type": "code",
   "execution_count": 120,
   "metadata": {},
   "outputs": [],
   "source": [
    "model = clf\n",
    "y_train_preds = model.predict_proba(X_train_tf)[:,1]\n",
    "y_valid_preds = model.predict_proba(X_valid_tf)[:,1]"
   ]
  },
  {
   "cell_type": "code",
   "execution_count": 121,
   "metadata": {},
   "outputs": [],
   "source": [
    "pickle.dump(y_train_preds, open(\"y_train_preds.pickle\", \"wb\"))\n",
    "pickle.dump(y_valid_preds, open(\"y_valid_preds.pickle\", \"wb\"))"
   ]
  },
  {
   "cell_type": "markdown",
   "metadata": {},
   "source": [
    "Show the first 10 Training Output Labels and their Probability of Readmission"
   ]
  },
  {
   "cell_type": "code",
   "execution_count": 141,
   "metadata": {},
   "outputs": [
    {
     "data": {
      "text/html": [
       "<div>\n",
       "<style scoped>\n",
       "    .dataframe tbody tr th:only-of-type {\n",
       "        vertical-align: middle;\n",
       "    }\n",
       "\n",
       "    .dataframe tbody tr th {\n",
       "        vertical-align: top;\n",
       "    }\n",
       "\n",
       "    .dataframe thead th {\n",
       "        text-align: right;\n",
       "    }\n",
       "</style>\n",
       "<table border=\"1\" class=\"dataframe\">\n",
       "  <thead>\n",
       "    <tr style=\"text-align: right;\">\n",
       "      <th></th>\n",
       "      <th>Actual</th>\n",
       "      <th>Probability</th>\n",
       "    </tr>\n",
       "  </thead>\n",
       "  <tbody>\n",
       "    <tr>\n",
       "      <th>0</th>\n",
       "      <td>0</td>\n",
       "      <td>0.629672</td>\n",
       "    </tr>\n",
       "    <tr>\n",
       "      <th>1</th>\n",
       "      <td>1</td>\n",
       "      <td>0.873597</td>\n",
       "    </tr>\n",
       "    <tr>\n",
       "      <th>2</th>\n",
       "      <td>0</td>\n",
       "      <td>0.506034</td>\n",
       "    </tr>\n",
       "    <tr>\n",
       "      <th>3</th>\n",
       "      <td>1</td>\n",
       "      <td>1.000000</td>\n",
       "    </tr>\n",
       "    <tr>\n",
       "      <th>4</th>\n",
       "      <td>0</td>\n",
       "      <td>0.582577</td>\n",
       "    </tr>\n",
       "    <tr>\n",
       "      <th>5</th>\n",
       "      <td>1</td>\n",
       "      <td>0.616174</td>\n",
       "    </tr>\n",
       "    <tr>\n",
       "      <th>6</th>\n",
       "      <td>1</td>\n",
       "      <td>0.976845</td>\n",
       "    </tr>\n",
       "    <tr>\n",
       "      <th>7</th>\n",
       "      <td>0</td>\n",
       "      <td>0.489694</td>\n",
       "    </tr>\n",
       "    <tr>\n",
       "      <th>8</th>\n",
       "      <td>1</td>\n",
       "      <td>0.344486</td>\n",
       "    </tr>\n",
       "    <tr>\n",
       "      <th>9</th>\n",
       "      <td>0</td>\n",
       "      <td>0.370499</td>\n",
       "    </tr>\n",
       "  </tbody>\n",
       "</table>\n",
       "</div>"
      ],
      "text/plain": [
       "   Actual  Probability\n",
       "0       0     0.629672\n",
       "1       1     0.873597\n",
       "2       0     0.506034\n",
       "3       1     1.000000\n",
       "4       0     0.582577\n",
       "5       1     0.616174\n",
       "6       1     0.976845\n",
       "7       0     0.489694\n",
       "8       1     0.344486\n",
       "9       0     0.370499"
      ]
     },
     "execution_count": 141,
     "metadata": {},
     "output_type": "execute_result"
    }
   ],
   "source": [
    "df_training_prob = pd.DataFrame([y_train[:10].values, y_train_preds[:10]]).transpose()\n",
    "df_training_prob.columns = ['Actual', 'Probability']\n",
    "df_training_prob = df_training_prob.astype({\"Actual\": int})\n",
    "\n",
    "df_training_prob"
   ]
  },
  {
   "cell_type": "markdown",
   "metadata": {},
   "source": [
    "## Visualize top words for positive and negative classes. \n",
    "Code from https://github.com/hundredblocks/concrete_NLP_tutorial/blob/master/NLP_notebook.ipynb\n",
    "\n",
    "To validate my model and interpret its predictions, it is important to look at which words it is using to make decisions, to see if there are any patterns which could give insight into additional features to add or remove. \n",
    "\n",
    "I'll plot the most important words for both the negative and positive class. Plotting word importance is simple with Bag of Words and Logistic Regression, since we can just extract and rank the coefficients that the model used for its predictions."
   ]
  },
  {
   "cell_type": "code",
   "execution_count": 136,
   "metadata": {},
   "outputs": [],
   "source": [
    "def get_most_important_features(vectorizer, model, n=5):\n",
    "    index_to_word = {v:k for k,v in vectorizer.vocabulary_.items()}\n",
    "    \n",
    "    # loop for each class\n",
    "    classes ={}\n",
    "    for class_index in range(model.coef_.shape[0]):\n",
    "        word_importances = [(el, index_to_word[i]) for i,el in enumerate(model.coef_[class_index])]\n",
    "        sorted_coeff = sorted(word_importances, key = lambda x : x[0], reverse=True)\n",
    "        tops = sorted(sorted_coeff[:n], key = lambda x : x[0])\n",
    "        bottom = sorted_coeff[-n:]\n",
    "        classes[class_index] = {\n",
    "            'tops':tops,\n",
    "            'bottom':bottom\n",
    "        }\n",
    "    return classes\n",
    "\n",
    "def plot_important_words(top_scores, top_words, bottom_scores, bottom_words, name):\n",
    "    y_pos = np.arange(len(top_words))\n",
    "    top_pairs = [(a,b) for a,b in zip(top_words, top_scores)]\n",
    "    top_pairs = sorted(top_pairs, key=lambda x: x[1])\n",
    "    \n",
    "    bottom_pairs = [(a,b) for a,b in zip(bottom_words, bottom_scores)]\n",
    "    bottom_pairs = sorted(bottom_pairs, key=lambda x: x[1], reverse=True)\n",
    "    \n",
    "    top_words = [a[0] for a in top_pairs]\n",
    "    top_scores = [a[1] for a in top_pairs]\n",
    "    \n",
    "    bottom_words = [a[0] for a in bottom_pairs]\n",
    "    bottom_scores = [a[1] for a in bottom_pairs]\n",
    "    \n",
    "    fig = plt.figure(figsize=(10, 15))  \n",
    "\n",
    "    plt.subplot(121)\n",
    "    plt.barh(y_pos,bottom_scores, align='center', alpha=0.5)\n",
    "    plt.title('Negative', fontsize=20)\n",
    "    plt.yticks(y_pos, bottom_words, fontsize=14)\n",
    "    plt.suptitle('Key words', fontsize=16)\n",
    "    plt.xlabel('Importance', fontsize=20)\n",
    "    \n",
    "    plt.subplot(122)\n",
    "    plt.barh(y_pos,top_scores, align='center', alpha=0.5)\n",
    "    plt.title('Positive', fontsize=20)\n",
    "    plt.yticks(y_pos, top_words, fontsize=14)\n",
    "    plt.suptitle(name, fontsize=16)\n",
    "    plt.xlabel('Importance', fontsize=20)\n",
    "    \n",
    "    plt.subplots_adjust(wspace=0.8)\n",
    "    plt.show()"
   ]
  },
  {
   "cell_type": "code",
   "execution_count": 137,
   "metadata": {},
   "outputs": [
    {
     "data": {
      "image/png": "[encoded data removed]",
      "text/plain": [
       "<Figure size 720x1080 with 2 Axes>"
      ]
     },
     "metadata": {
      "needs_background": "light"
     },
     "output_type": "display_data"
    }
   ],
   "source": [
    "importance = get_most_important_features(vect, clf, 50)\n",
    "\n",
    "top_scores = [a[0] for a in importance[0]['tops']]\n",
    "top_words = [a[1] for a in importance[0]['tops']]\n",
    "bottom_scores = [a[0] for a in importance[0]['bottom']]\n",
    "bottom_words = [a[1] for a in importance[0]['bottom']]\n",
    "\n",
    "plot_important_words(top_scores, top_words, bottom_scores, bottom_words, \"Most important words\")"
   ]
  },
  {
   "cell_type": "markdown",
   "metadata": {},
   "source": [
    "This looks okay, let's move forward."
   ]
  },
  {
   "cell_type": "markdown",
   "metadata": {},
   "source": [
    "# Step 4: Calculate Performance Metrics\n",
    "To assess the quality of the model we need to measure how well our model performed. In this project I'll choose the the AUROC metric because:\n",
    "1. For benchmarking purposes &mdash; it is the metric used in the original [Arxiv](https://arxiv.org/pdf/1801.07860.pdf) paper that inspired this project. \n",
    "2. It balances False Positive Rates and True Positive Rate. See below for more details:"
   ]
  },
  {
   "cell_type": "markdown",
   "metadata": {},
   "source": [
    "The **ROC curve** shows how the **recall** vs **precision** relationship changes as we vary the threshold for identifying a positive in our model.\n",
    "\n",
    "An ROC curve plots the true positive rate on the y-axis versus the false positive rate on the x-axis. The **true positive rate (TPR)** is the **recall** and the **false positive rate (FPR)** is the **probability of a false alarm**. Both of these can be calculated from the confusion matrix:\n",
    "<img src=\"images/confusion_matrix.png\" width=\"400\" />\n",
    "\n",
    "<img src=\"images/true_pos_false_pos.png\" width=\"800\" />\n",
    "\n",
    "[[Source](https://towardsdatascience.com/beyond-accuracy-precision-and-recall-3da06bea9f6c)]"
   ]
  },
  {
   "cell_type": "markdown",
   "metadata": {},
   "source": [
    "* **Recall** expresses the ability of a model to find all the relevant cases within a dataset.\n",
    "* **Precision** expresses the ability of a classification model to identify only the relevant data points. In other words, the proportion of the data points our model says was relevant actually were relevant. \n",
    "\n",
    "<img src=\"images/recall_precision.png\" width=\"700\" />"
   ]
  },
  {
   "cell_type": "markdown",
   "metadata": {},
   "source": [
    "**NOTE**: Although accuracy is the most common performance metric, it is not the best metric to use in this project because, for example, if you always predict that people will not be hospitalized you might achieve an extremely high accuracy, but **you will not predict any of the actual hospitalizations**."
   ]
  },
  {
   "cell_type": "code",
   "execution_count": 155,
   "metadata": {},
   "outputs": [],
   "source": [
    "def calc_recall(y_actual, y_pred, thresh):\n",
    "    '''Calculates the recall.\n",
    "        Params:\n",
    "            y_actual (pandas Series of integers): output labels\n",
    "            y_pred (numpy array of floats): probability of readmission\n",
    "            thresh (float): What probabilities are assigned as predicted pos vs neg\n",
    "        Returns:\n",
    "            recall (float): recall metric\n",
    "    '''\n",
    "    return sum((y_pred > thresh) & (y_actual == 1)) / sum(y_actual)"
   ]
  },
  {
   "cell_type": "code",
   "execution_count": 156,
   "metadata": {},
   "outputs": [],
   "source": [
    "def calc_precision(y_actual, y_pred, thresh):\n",
    "    '''Calculates the precision.\n",
    "        Params:\n",
    "            y_actual (pandas Series of integers): output labels\n",
    "            y_pred (numpy array of floats): probability of readmission\n",
    "            thresh (float): What probabilities are assigned as predicted pos vs neg\n",
    "        Returns:\n",
    "            precision (float): precision metric\n",
    "    '''\n",
    "    return sum((y_pred > thresh) & (y_actual == 1)) / sum(y_pred > thresh)"
   ]
  },
  {
   "cell_type": "code",
   "execution_count": 157,
   "metadata": {},
   "outputs": [],
   "source": [
    "def calc_prevalence(y_actual):\n",
    "    '''Calculates the prevalence.\n",
    "        Params:\n",
    "            y_actual (pandas Series of integers): output labels\n",
    "        Returns:\n",
    "            Prevalence (float): prevalence metric\n",
    "    '''\n",
    "    return sum((y_actual == 1)) / len(y_actual)"
   ]
  },
  {
   "cell_type": "markdown",
   "metadata": {},
   "source": [
    "Set threshold to 0.5 then print performance metrics"
   ]
  },
  {
   "cell_type": "code",
   "execution_count": 163,
   "metadata": {},
   "outputs": [
    {
     "name": "stdout",
     "output_type": "stream",
     "text": [
      "Train recall:0.948\n",
      "Valid recall:0.843\n",
      "Train precision:0.779\n",
      "Valid precision:0.122\n",
      "Train prevalence:0.500\n",
      "Valid prevalence:0.062\n"
     ]
    }
   ],
   "source": [
    "thresh = 0.5\n",
    "\n",
    "train_recall = calc_recall(y_train, y_train_preds, thresh)\n",
    "valid_recall = calc_recall(y_valid, y_valid_preds, thresh)\n",
    "\n",
    "train_precision = calc_precision(y_train, y_train_preds, thresh)\n",
    "valid_precision = calc_precision(y_valid, y_valid_preds, thresh)\n",
    "\n",
    "train_prevalence = calc_prevalence(y_train)\n",
    "valid_prevalence = calc_prevalence(y_valid)\n",
    "\n",
    "print('Train recall:%.3f'%train_recall)\n",
    "print('Valid recall:%.3f'%valid_recall)\n",
    "\n",
    "print('Train precision:%.3f'%train_precision)\n",
    "print('Valid precision:%.3f'%valid_precision)\n",
    "\n",
    "print('Train prevalence:%.3f'%train_prevalence)\n",
    "print('Valid prevalence:%.3f'%valid_prevalence)"
   ]
  },
  {
   "cell_type": "markdown",
   "metadata": {},
   "source": [
    "Plot the Receiver Operating Characteristic Curve"
   ]
  },
  {
   "cell_type": "code",
   "execution_count": 161,
   "metadata": {},
   "outputs": [
    {
     "data": {
      "image/png": "[encoded data removed]",
      "text/plain": [
       "<Figure size 432x288 with 1 Axes>"
      ]
     },
     "metadata": {
      "needs_background": "light"
     },
     "output_type": "display_data"
    }
   ],
   "source": [
    "from sklearn.metrics import roc_curve\n",
    "\n",
    "fpr_train, tpr_train, thresholds_train = roc_curve(y_train, y_train_preds)\n",
    "fpr_valid, tpr_valid, thresholds_valid = roc_curve(y_valid, y_valid_preds)\n",
    "\n",
    "plt.plot(fpr_train, tpr_train,'r-', label = 'Train AUC: %.2f'%auc_train)\n",
    "plt.plot(fpr_valid, tpr_valid,'b-',label = 'Valid AUC: %.2f'%auc_valid)\n",
    "plt.plot([0,1],[0,1],'-k')\n",
    "plt.xlabel('False Positive Rate')\n",
    "plt.ylabel('True Positive Rate')\n",
    "plt.legend()\n",
    "plt.show()"
   ]
  },
  {
   "cell_type": "markdown",
   "metadata": {},
   "source": [
    "Notice that I do have some overfitting. "
   ]
  },
  {
   "cell_type": "markdown",
   "metadata": {},
   "source": [
    "Calculate the Area Under the Curve (AUC) for training and validation sets. A well performing classifier has a _low_ classification error but a _high_ AUC [[Source](https://www.researchgate.net/profile/David_Tax/publication/221275639_Learning_Curves_for_the_Analysis_of_Multiple_Instance_Classifiers/links/0fcfd5138ac2f3257b000000.pdf#page=8)]."
   ]
  },
  {
   "cell_type": "code",
   "execution_count": 162,
   "metadata": {},
   "outputs": [
    {
     "name": "stdout",
     "output_type": "stream",
     "text": [
      "Train AUC:0.952\n",
      "Valid AUC:0.822\n"
     ]
    }
   ],
   "source": [
    "from sklearn.metrics import roc_auc_score\n",
    "\n",
    "auc_train = roc_auc_score(y_train, y_train_preds)\n",
    "auc_valid = roc_auc_score(y_valid, y_valid_preds)\n",
    "\n",
    "print('Train AUC:%.3f'%auc_train)\n",
    "print('Valid AUC:%.3f'%auc_valid)"
   ]
  },
  {
   "cell_type": "markdown",
   "metadata": {},
   "source": [
    "Quickly throw metrics into a  table format. It's easier to eyeball it for a side-by-side comparison."
   ]
  },
  {
   "cell_type": "code",
   "execution_count": 170,
   "metadata": {},
   "outputs": [
    {
     "data": {
      "text/html": [
       "<div>\n",
       "<style scoped>\n",
       "    .dataframe tbody tr th:only-of-type {\n",
       "        vertical-align: middle;\n",
       "    }\n",
       "\n",
       "    .dataframe tbody tr th {\n",
       "        vertical-align: top;\n",
       "    }\n",
       "\n",
       "    .dataframe thead th {\n",
       "        text-align: right;\n",
       "    }\n",
       "</style>\n",
       "<table border=\"1\" class=\"dataframe\">\n",
       "  <thead>\n",
       "    <tr style=\"text-align: right;\">\n",
       "      <th></th>\n",
       "      <th>Training</th>\n",
       "      <th>Validation</th>\n",
       "    </tr>\n",
       "  </thead>\n",
       "  <tbody>\n",
       "    <tr>\n",
       "      <th>Prevalence</th>\n",
       "      <td>0.500</td>\n",
       "      <td>0.062</td>\n",
       "    </tr>\n",
       "    <tr>\n",
       "      <th>Recall</th>\n",
       "      <td>0.948</td>\n",
       "      <td>0.843</td>\n",
       "    </tr>\n",
       "    <tr>\n",
       "      <th>Precision</th>\n",
       "      <td>0.779</td>\n",
       "      <td>0.122</td>\n",
       "    </tr>\n",
       "    <tr>\n",
       "      <th>AUC</th>\n",
       "      <td>0.952</td>\n",
       "      <td>0.822</td>\n",
       "    </tr>\n",
       "  </tbody>\n",
       "</table>\n",
       "</div>"
      ],
      "text/plain": [
       "            Training  Validation\n",
       "Prevalence     0.500       0.062\n",
       "Recall         0.948       0.843\n",
       "Precision      0.779       0.122\n",
       "AUC            0.952       0.822"
      ]
     },
     "execution_count": 170,
     "metadata": {},
     "output_type": "execute_result"
    }
   ],
   "source": [
    "df_perf_metrics = pd.DataFrame([\n",
    "    [train_prevalence, valid_prevalence],\n",
    "    [train_recall, valid_recall], \n",
    "    [train_precision, valid_precision],\n",
    "    [auc_train, auc_valid]], columns=['Training', 'Validation'])\n",
    "\n",
    "df_perf_metrics.rename(index={0:'Prevalence', 1:'Recall', 2:'Precision', 3:'AUC'}, \n",
    "                 inplace=True)\n",
    "\n",
    "df_perf_metrics.round(3)"
   ]
  },
  {
   "cell_type": "markdown",
   "metadata": {},
   "source": [
    "Notice that there is a significant drop in the precision of the training data versus the validation data. This is because earlier on I balanced the training set by setting the prevalence to 50%, however, the validation remained the original distribution."
   ]
  },
  {
   "cell_type": "markdown",
   "metadata": {},
   "source": [
    "## Evaluating Classifier Performance"
   ]
  },
  {
   "cell_type": "markdown",
   "metadata": {},
   "source": [
    "When you've finally reached the point where you're thinking of ways to improve the model, we can do it in a data-driven way to avoid spending a lot of time going down the wrong path. \n",
    "\n",
    "Check out Andrew Ng's _Deep Learning_ Coursera videos where he discusses high-bias vs. high-variance [[Week 1, videos 2 & 3](https://www.coursera.org/learn/deep-neural-network/lecture/ZhclI/bias-variance)]. \n",
    "Additionally, in [week 6, videos 1 & 3](https://www.coursera.org/learn/machine-learning/home/week/6) of Andrew Ng's _Machine Learning_ Course he covers **learning curves**."
   ]
  },
  {
   "cell_type": "markdown",
   "metadata": {},
   "source": [
    "A learning curve shows when the continuation of learning has no further effects.\n",
    "\n",
    "If a learning algorithm is suffering from **high bias (underfitting)**, getting more training data will not (by itself) help much &mdash; notice that the **error** remains high. This is shown in Andrew Ng's [slide](https://www.coursera.org/learn/machine-learning/lecture/Kont7/learning-curves) below:\n",
    "\n",
    "<img src=\"images/high_bias_Andrew_Ng.png\" width=\"500\" />"
   ]
  },
  {
   "cell_type": "markdown",
   "metadata": {},
   "source": [
    "We can tell that an algorithm is suffering from **high variance (overfitting)** if there's a \"large\" gap between the training error curve and the cross-validation error curve. If a learning algorithm is suffering from high variance, getting more training data is likely to help because if you were to extrapolate to the right the two errors start to converge. \n",
    "\n",
    "<img src=\"images/high_variance_Andrew_Ng.png\" width=\"500\" />"
   ]
  },
  {
   "cell_type": "markdown",
   "metadata": {},
   "source": [
    "## Plot the Learning Curve\n",
    "Source: https://scikit-learn.org/stable/auto_examples/model_selection/plot_learning_curve.html#sphx-glr-auto-examples-model-selection-plot-learning-curve-py"
   ]
  },
  {
   "cell_type": "code",
   "execution_count": 193,
   "metadata": {},
   "outputs": [],
   "source": [
    "import numpy as np\n",
    "from sklearn.model_selection import learning_curve\n",
    "from sklearn.model_selection import ShuffleSplit\n",
    "\n",
    "\n",
    "def plot_learning_curve(estimator, title, X, y, ylim=None, cv=None,\n",
    "                        n_jobs=1, train_sizes=np.linspace(.1, 1.0, 5)):\n",
    "    \"\"\"\n",
    "    Generate a simple plot of the test and training learning curve.\n",
    "\n",
    "    Parameters\n",
    "    ----------\n",
    "    estimator : object type that implements the \"fit\" and \"predict\" methods\n",
    "        An object of that type which is cloned for each validation.\n",
    "\n",
    "    title : string\n",
    "        Title for the chart.\n",
    "\n",
    "    X : array-like, shape (n_samples, n_features)\n",
    "        Training vector, where n_samples is the number of samples and\n",
    "        n_features is the number of features.\n",
    "\n",
    "    y : array-like, shape (n_samples) or (n_samples, n_features), optional\n",
    "        Target relative to X for classification or regression;\n",
    "        None for unsupervised learning.\n",
    "\n",
    "    ylim : tuple, shape (ymin, ymax), optional\n",
    "        Defines minimum and maximum yvalues plotted.\n",
    "\n",
    "    cv : int, cross-validation generator or an iterable, optional\n",
    "        Determines the cross-validation splitting strategy.\n",
    "        Possible inputs for cv are:\n",
    "          - None, to use the default 3-fold cross-validation,\n",
    "          - integer, to specify the number of folds.\n",
    "          - An object to be used as a cross-validation generator.\n",
    "          - An iterable yielding train/test splits.\n",
    "\n",
    "        For integer/None inputs, if ``y`` is binary or multiclass,\n",
    "        :class:`StratifiedKFold` used. If the estimator is not a classifier\n",
    "        or if ``y`` is neither binary nor multiclass, :class:`KFold` is used.\n",
    "\n",
    "        Refer :ref:`User Guide <cross_validation>` for the various\n",
    "        cross-validators that can be used here.\n",
    "\n",
    "    n_jobs : integer, optional\n",
    "        Number of jobs to run in parallel (default 1).\n",
    "    \"\"\"\n",
    "    plt.figure()\n",
    "    plt.title(title)\n",
    "    if ylim is not None:\n",
    "        plt.ylim(*ylim)\n",
    "    plt.xlabel(\"Training examples\")\n",
    "    plt.ylabel(\"AUC\")\n",
    "    train_sizes, train_scores, test_scores = learning_curve(\n",
    "        estimator, X, y, cv=cv, n_jobs=n_jobs, train_sizes=train_sizes, scoring = 'roc_auc')\n",
    "    train_scores_mean = np.mean(train_scores, axis=1)\n",
    "    train_scores_std = np.std(train_scores, axis=1)\n",
    "    test_scores_mean = np.mean(test_scores, axis=1)\n",
    "    test_scores_std = np.std(test_scores, axis=1)\n",
    "    plt.grid()\n",
    "\n",
    "    plt.fill_between(train_sizes, train_scores_mean - train_scores_std,\n",
    "                     train_scores_mean + train_scores_std, alpha=0.1,\n",
    "                     color=\"r\")\n",
    "    plt.fill_between(train_sizes, test_scores_mean - test_scores_std,\n",
    "                     test_scores_mean + test_scores_std, alpha=0.1, color=\"b\")\n",
    "    plt.plot(train_sizes, train_scores_mean, 'o-', color=\"r\",\n",
    "             label=\"Training score\")\n",
    "    plt.plot(train_sizes, test_scores_mean, 'o-', color=\"b\",\n",
    "             label=\"Cross-validation score\")\n",
    "\n",
    "    plt.legend(loc=\"best\")\n",
    "    return plt"
   ]
  },
  {
   "cell_type": "code",
   "execution_count": 195,
   "metadata": {},
   "outputs": [
    {
     "data": {
      "image/png": "[encoded data removed]",
      "text/plain": [
       "<Figure size 432x288 with 1 Axes>"
      ]
     },
     "metadata": {
      "needs_background": "light"
     },
     "output_type": "display_data"
    }
   ],
   "source": [
    "title = \"Learning Curves (Logistic Regression with C = 0.0001)\"\n",
    "# Cross validation with 5 iterations to get smoother mean test and train\n",
    "# score curves, each time with 20% data randomly selected as a validation set.\n",
    "cv = ShuffleSplit(n_splits=5, test_size=0.2, random_state=42)\n",
    "estimator = LogisticRegression(C = 0.0001, penalty = 'l2')\n",
    "plot_learning_curve(estimator, title, X_train_tf, y_train, ylim=(0.2, 1.01), cv=cv, n_jobs=4)\n",
    "\n",
    "plt.show()"
   ]
  },
  {
   "cell_type": "markdown",
   "metadata": {},
   "source": [
    "As you can see from the learning curve above:\n",
    "1. There is some overfitting but\n",
    "2. I am convinced that adding more data will improve the results. This is confirmed by the fact that the cross-validation score trend seems to be increasing as we increase the training examples. It appears that it is trending toward converging w the training score if we were to keep extrapolating. Unfortunately I cannot obtain more data for this project because I'm limited to what the MIMIC-III has made available. So let's move on."
   ]
  },
  {
   "cell_type": "markdown",
   "metadata": {},
   "source": [
    "## Hyperparameter Tuning\n",
    "In general machine learning is a very iterative process where you can tweak hyperparameters to find the optimal results.\n",
    "\n",
    "Tuning is vital to enhance your models performance. To optimize my hyperparameters I could either fit a [Grid Search](https://chrisalbon.com/machine_learning/model_selection/hyperparameter_tuning_using_grid_search/) on my training data or a [Random Search](https://towardsdatascience.com/hyperparameter-tuning-c5619e7e6624#76a2) on my training data but I won't perform them because of the lengthy computing time. previously training my model took on average over 12 hours per task (it's lengthy likely due to the fact that I concatenated the notes). Unfortunately due to compute restraints it might take several days to perform hyperparameter tuning. So instead, now I will just discuss the two methods as well as their advantages and disadvantages.\n",
    "\n",
    "### Grid Search\n",
    "* Grid search is an approach that methodically builds a and evaluates a model for each combination of algorithm parameters that you will have to define in a grid.\n",
    "* You can use `sklearn`'s [`GridSearchCV`](https://scikit-learn.org/stable/modules/generated/sklearn.model_selection.GridSearchCV.html)\n",
    "* For example with Logistic Regression suppose you define the grid as:\n",
    "    * penalty = ['l1', 'l2']\n",
    "    * C = [0.0001, 0.001, 0.01, 0.1, 1, 10, 100, 1000]\n",
    "    * It will start with the combination of ['l1', 0.0001], and it will end with ['l2', 1000]. It will go through all intermediate combinations between these two which makes grid search **very computationally expensive**. \n",
    "\n",
    "\n",
    "### Random Search\n",
    "* Random search searches the specified subset of hyperparameters randomly instead of exhaustively. \n",
    "* The major benefit, compared to grid search, is its **decreased computation time**.\n",
    "* The tradeoff however is that we are not guaranteed to find the optimal combination of hyperparameters because it didn't exhaustively search all possible combinations.\n",
    "* You can use `sklearn's` [`RandomizedSearchCV`](https://scikit-learn.org/stable/modules/generated/sklearn.model_selection.RandomizedSearchCV.html). An important additional parameter to specify here is `n_iter` which is the number of combinations to randomly try. Selecting a number that's too low will decrease our chance of finding he best combination, but selecting a number that's too large will increase compute time. "
   ]
  },
  {
   "cell_type": "markdown",
   "metadata": {},
   "source": [
    "## What comes after tuning?\n",
    "After finding your optimal hyperparmeters you should plug in the hyperparameter values to your **validation set** and keep the best trained model.\n",
    "\n",
    "Then finally you would run your model on the test set with those same optimal hyperparameters plugged in.\n",
    "\n",
    "**Side notes:** \n",
    "> If your project requires that you take it a step further and compare different models in an unbiased way, you can finally use the test set for this. See more in this Stack Exchange [answer](https://datascience.stackexchange.com/questions/18339/why-use-both-validation-set-and-test-set).\n",
    "\n",
    "> You cannot use the cross validation set to measure performance of your model accurately, because you will deliberately tune your results to get the best possible metric, over maybe hundreds of variations of your parameters. The cross validation result is therefore likely to be too optimistic. See this Stack Exchange [answer](https://datascience.stackexchange.com/a/18347) as well for more robust explanation."
   ]
  },
  {
   "cell_type": "markdown",
   "metadata": {},
   "source": [
    "# Step 6: Run Model on Test set"
   ]
  },
  {
   "cell_type": "code",
   "execution_count": 196,
   "metadata": {},
   "outputs": [],
   "source": [
    "# Could take some hours\n",
    "X_test_tf = vect.transform(df_test.TEXT_CONCAT.values.astype(str))"
   ]
  },
  {
   "cell_type": "code",
   "execution_count": 197,
   "metadata": {},
   "outputs": [],
   "source": [
    "pickle.dump(X_test_tf, open(\"X_test_tf.pickle\", \"wb\"))"
   ]
  },
  {
   "cell_type": "markdown",
   "metadata": {},
   "source": [
    "Get the output labels as separate variables"
   ]
  },
  {
   "cell_type": "code",
   "execution_count": 198,
   "metadata": {},
   "outputs": [],
   "source": [
    "y_test = df_test.OUTPUT_LABEL"
   ]
  },
  {
   "cell_type": "markdown",
   "metadata": {},
   "source": [
    "Calculate the probability of readmission for each sample with the fitted model"
   ]
  },
  {
   "cell_type": "code",
   "execution_count": 199,
   "metadata": {},
   "outputs": [],
   "source": [
    "y_test_preds = model.predict_proba(X_test_tf)[:,1]"
   ]
  },
  {
   "cell_type": "code",
   "execution_count": 200,
   "metadata": {},
   "outputs": [],
   "source": [
    "pickle.dump(y_test_preds, open(\"y_test_preds.pickle\", \"wb\"))"
   ]
  },
  {
   "cell_type": "markdown",
   "metadata": {},
   "source": [
    "Print performance metrics"
   ]
  },
  {
   "cell_type": "code",
   "execution_count": 205,
   "metadata": {},
   "outputs": [
    {
     "name": "stdout",
     "output_type": "stream",
     "text": [
      "Train prevalence(n = 3000): 0.500\n",
      "Valid prevalence(n = 3456): 0.062\n",
      "Test prevalence(n = 3456): 0.065\n",
      "Train AUC:0.952\n",
      "Valid AUC:0.822\n",
      "Valid AUC:0.833\n",
      "Train recall:0.948\n",
      "Valid recall:0.843\n",
      "Test recall:0.852\n",
      "Train precision:0.779\n",
      "Valid precision:0.122\n",
      "Test precision:0.127\n"
     ]
    }
   ],
   "source": [
    "test_recall = calc_recall(y_test, y_test_preds, thresh)\n",
    "test_precision = calc_precision(y_test, y_test_preds, thresh)\n",
    "test_prevalence = calc_prevalence(y_test)\n",
    "auc_test = roc_auc_score(y_test, y_test_preds)\n",
    "\n",
    "print('Train prevalence(n = %d): %.3f'%(len(y_train), train_prevalence))\n",
    "print('Valid prevalence(n = %d): %.3f'%(len(y_valid), valid_prevalence))\n",
    "print('Test prevalence(n = %d): %.3f'%(len(y_test), test_prevalence))\n",
    "\n",
    "print('Train AUC:%.3f'%auc_train)\n",
    "print('Valid AUC:%.3f'%auc_valid)\n",
    "print('Valid AUC:%.3f'%auc_test)\n",
    "\n",
    "print('Train recall:%.3f'%train_recall)\n",
    "print('Valid recall:%.3f'%valid_recall)\n",
    "print('Test recall:%.3f'%test_recall)\n",
    "\n",
    "print('Train precision:%.3f'%train_precision)\n",
    "print('Valid precision:%.3f'%valid_precision)\n",
    "print('Test precision:%.3f'%test_precision)"
   ]
  },
  {
   "cell_type": "markdown",
   "metadata": {},
   "source": [
    "Plot the Receiver Operating Characteristic Curve"
   ]
  },
  {
   "cell_type": "code",
   "execution_count": 203,
   "metadata": {},
   "outputs": [
    {
     "data": {
      "image/png": "[encoded data removed]",
      "text/plain": [
       "<Figure size 432x288 with 1 Axes>"
      ]
     },
     "metadata": {
      "needs_background": "light"
     },
     "output_type": "display_data"
    }
   ],
   "source": [
    "fpr_test, tpr_test, thresholds_test = roc_curve(y_test, y_test_preds)\n",
    "\n",
    "plt.plot(fpr_train, tpr_train,'r-', label = 'Train AUC: %.2f'%auc_train)\n",
    "plt.plot(fpr_valid, tpr_valid,'b-',label = 'Valid AUC: %.2f'%auc_valid)\n",
    "plt.plot(fpr_test, tpr_test,'g-',label = 'Test AUC: %.2f'%auc_test)\n",
    "plt.plot([0,1],[0,1],'-k')\n",
    "plt.xlabel('False Positive Rate')\n",
    "plt.ylabel('True Positive Rate')\n",
    "plt.legend()\n",
    "plt.show()"
   ]
  },
  {
   "cell_type": "markdown",
   "metadata": {},
   "source": [
    "Quickly throw metrics into a table format. It's easier to eyeball it for a side-by-side comparison."
   ]
  },
  {
   "cell_type": "code",
   "execution_count": 204,
   "metadata": {},
   "outputs": [
    {
     "data": {
      "text/html": [
       "<div>\n",
       "<style scoped>\n",
       "    .dataframe tbody tr th:only-of-type {\n",
       "        vertical-align: middle;\n",
       "    }\n",
       "\n",
       "    .dataframe tbody tr th {\n",
       "        vertical-align: top;\n",
       "    }\n",
       "\n",
       "    .dataframe thead th {\n",
       "        text-align: right;\n",
       "    }\n",
       "</style>\n",
       "<table border=\"1\" class=\"dataframe\">\n",
       "  <thead>\n",
       "    <tr style=\"text-align: right;\">\n",
       "      <th></th>\n",
       "      <th>Training</th>\n",
       "      <th>Validation</th>\n",
       "      <th>Test</th>\n",
       "    </tr>\n",
       "  </thead>\n",
       "  <tbody>\n",
       "    <tr>\n",
       "      <th>Prevalence</th>\n",
       "      <td>0.500</td>\n",
       "      <td>0.062</td>\n",
       "      <td>0.065</td>\n",
       "    </tr>\n",
       "    <tr>\n",
       "      <th>Recall</th>\n",
       "      <td>0.948</td>\n",
       "      <td>0.843</td>\n",
       "      <td>0.852</td>\n",
       "    </tr>\n",
       "    <tr>\n",
       "      <th>Precision</th>\n",
       "      <td>0.779</td>\n",
       "      <td>0.122</td>\n",
       "      <td>0.127</td>\n",
       "    </tr>\n",
       "    <tr>\n",
       "      <th>AUC</th>\n",
       "      <td>0.952</td>\n",
       "      <td>0.822</td>\n",
       "      <td>0.833</td>\n",
       "    </tr>\n",
       "  </tbody>\n",
       "</table>\n",
       "</div>"
      ],
      "text/plain": [
       "            Training  Validation   Test\n",
       "Prevalence     0.500       0.062  0.065\n",
       "Recall         0.948       0.843  0.852\n",
       "Precision      0.779       0.122  0.127\n",
       "AUC            0.952       0.822  0.833"
      ]
     },
     "execution_count": 204,
     "metadata": {},
     "output_type": "execute_result"
    }
   ],
   "source": [
    "df_test_perf_metrics = pd.DataFrame([\n",
    "    [train_prevalence, valid_prevalence, test_prevalence],\n",
    "    [train_recall, valid_recall, test_recall], \n",
    "    [train_precision, valid_precision, test_precision],\n",
    "    [auc_train, auc_valid, auc_test]], columns=['Training', 'Validation', 'Test'])\n",
    "\n",
    "df_test_perf_metrics.rename(index={0:'Prevalence', 1:'Recall', 2:'Precision', 3:'AUC'}, \n",
    "                 inplace=True)\n",
    "\n",
    "df_test_perf_metrics.round(3)"
   ]
  },
  {
   "cell_type": "markdown",
   "metadata": {},
   "source": [
    "# Conclusion &mdash; Benchmark the Results\n",
    "It's time to compare results. Both me and Andrew Long used conventional machine learning models to predict unplanned, 30-day hospital readmissions. My approach (AUC=0.83) **outperformed** Andrew Long's [results](https://towardsdatascience.com/introduction-to-clinical-natural-language-processing-predicting-hospital-readmission-with-1736d52bc709) (AUC=0.70) by **13%**.\n",
    "\n",
    "As a quick recap, here's a list of additional things that I did differently:\n",
    "* Removed all English stopwords from NLTK\n",
    "* Concatenate all the notes (instead of only using the last discharge summary)\n",
    "* Performed lemmatization\n",
    "* Readmission can only be counted once\n",
    "\n",
    "# Next Steps &mdash; Deep Learning\n",
    "In part 2 of this project I will apply a Deep Learning transformer model to see if that will further improve my outcome. Stay tuned..."
   ]
  }
 ],
 "metadata": {
  "kernelspec": {
   "display_name": "Python 3",
   "language": "python",
   "name": "python3"
  },
  "language_info": {
   "codemirror_mode": {
    "name": "ipython",
    "version": 3
   },
   "file_extension": ".py",
   "mimetype": "text/x-python",
   "name": "python",
   "nbconvert_exporter": "python",
   "pygments_lexer": "ipython3",
   "version": "3.7.3"
  },
  "varInspector": {
   "cols": {
    "lenName": 16,
    "lenType": 16,
    "lenVar": 40
   },
   "kernels_config": {
    "python": {
     "delete_cmd_postfix": "",
     "delete_cmd_prefix": "del ",
     "library": "var_list.py",
     "varRefreshCmd": "print(var_dic_list())"
    },
    "r": {
     "delete_cmd_postfix": ") ",
     "delete_cmd_prefix": "rm(",
     "library": "var_list.r",
     "varRefreshCmd": "cat(var_dic_list()) "
    }
   },
   "oldHeight": 197.8,
   "position": {
    "height": "219.4px",
    "left": "402.6px",
    "right": "20px",
    "top": "110px",
    "width": "639.4px"
   },
   "types_to_exclude": [
    "module",
    "function",
    "builtin_function_or_method",
    "instance",
    "_Feature"
   ],
   "varInspector_section_display": "block",
   "window_display": false
  }
 },
 "nbformat": 4,
 "nbformat_minor": 2
}
